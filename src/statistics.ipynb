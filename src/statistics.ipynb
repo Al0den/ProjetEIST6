{
 "cells": [
  {
   "cell_type": "code",
   "execution_count": 34,
   "id": "1850a629",
   "metadata": {},
   "outputs": [],
   "source": [
    "import pandas as pd\n",
    "import os\n",
    "\n",
    "import scipy.stats as stats\n",
    "import numpy as np\n",
    "\n",
    "input_dir = \"../data_clean/\""
   ]
  },
  {
   "cell_type": "code",
   "execution_count": 35,
   "id": "24b5399d",
   "metadata": {},
   "outputs": [
    {
     "name": "stdout",
     "output_type": "stream",
     "text": [
      "<class 'pandas.core.frame.DataFrame'>\n",
      "Index: 959 entries, 0 to 993\n",
      "Data columns (total 6 columns):\n",
      " #   Column       Non-Null Count  Dtype  \n",
      "---  ------       --------------  -----  \n",
      " 0   person_id    959 non-null    float64\n",
      " 1   imc          959 non-null    float64\n",
      " 2   age          940 non-null    float64\n",
      " 3   cancer_sein  959 non-null    object \n",
      " 4   fumeur       959 non-null    bool   \n",
      " 5   alcool       959 non-null    bool   \n",
      "dtypes: bool(2), float64(3), object(1)\n",
      "memory usage: 39.3+ KB\n"
     ]
    }
   ],
   "source": [
    "df_person = pd.read_pickle(os.path.join(input_dir, 'df_person.pkl'))\n",
    "df_bio = pd.read_pickle(os.path.join(input_dir, 'df_bio.pkl'))\n",
    "df_note = pd.read_pickle(os.path.join(input_dir, 'df_note.pkl'))\n",
    "df_visit = pd.read_pickle(os.path.join(input_dir, 'df_visit.pkl'))\n",
    "df_condition = pd.read_pickle(os.path.join(input_dir, 'df_condition.pkl'))\n",
    "df_facteur_risque = pd.read_pickle(os.path.join(input_dir, 'df_facteur_risque.pkl'))\n",
    "\n",
    "df_facteur_risque.info()"
   ]
  },
  {
   "cell_type": "code",
   "execution_count": null,
   "id": "0a5073cf",
   "metadata": {},
   "outputs": [
    {
     "name": "stdout",
     "output_type": "stream",
     "text": [
      "Alcool\n",
      "Résultats du test du Chi² :\n",
      "Chi² = 7.8900\n",
      "p-value = 0.0050\n",
      "\n",
      "\n",
      "Fumeur\n",
      "Résultats du test du Chi² :\n",
      "Chi² = 0.0149\n",
      "p-value = 0.9028\n"
     ]
    }
   ],
   "source": [
    "contingency_table = pd.crosstab(df_facteur_risque['cancer_sein'], df_facteur_risque['alcool'])\n",
    "\n",
    "chi2, p, dof, expected = stats.chi2_contingency(contingency_table)\n",
    "\n",
    "print(\"Alcool\")\n",
    "print(\"Résultats du test du Chi² :\")\n",
    "print(f\"Chi² = {chi2:.4f}\")\n",
    "print(f\"p-value = {p:.4f}\")\n",
    "\n",
    "contingency_table = pd.crosstab(df_facteur_risque['cancer_sein'], df_facteur_risque['fumeur'])\n",
    "\n",
    "chi2, p, dof, expected = stats.chi2_contingency(contingency_table)\n",
    "\n",
    "print(\"\\n\")\n",
    "print(\"Fumeur\")\n",
    "print(\"Résultats du test du Chi² :\")\n",
    "print(f\"Chi² = {chi2:.4f}\")\n",
    "print(f\"p-value = {p:.4f}\")\n",
    "\n",
    "contingency_table = pd.crosstab(df_facteur_risque['cancer_sein'], df_facteur_risque['antecedents_familiaux'])\n",
    "\n",
    "chi2, p, dof, expected = stats.chi2_contingency(contingency_table)\n",
    "\n",
    "print(\"\\n\")\n",
    "print(\"Antécédents familiaux\")\n",
    "print(\"Résultats du test du Chi² :\")\n",
    "print(f\"Chi² = {chi2:.4f}\")\n",
    "print(f\"p-value = {p:.4f}\")"
   ]
  },
  {
   "cell_type": "code",
   "execution_count": 40,
   "id": "75a5d6d2",
   "metadata": {},
   "outputs": [
    {
     "name": "stdout",
     "output_type": "stream",
     "text": [
      "ÂGE\n",
      "IC 99% âge sains : 44.17 - 49.07\n",
      "IC 99% âge cancer : 63.72 - 66.65\n",
      "Différence significative ? Oui (p-value = 0.0000)\n",
      "\n",
      "IMC\n",
      "IC 99% IMC sains : 20.14 - 20.80\n",
      "IC 99% IMC cancer : 24.41 - 24.93\n",
      "Différence significative ? Oui (p-value = 0.0000)\n"
     ]
    }
   ],
   "source": [
    "# Groupes\n",
    "groupe_sain = df_facteur_risque[df_facteur_risque['cancer_sein'] == 0]\n",
    "groupe_cancer = df_facteur_risque[df_facteur_risque['cancer_sein'] == 1]\n",
    "\n",
    "# Age\n",
    "m_age_sain = groupe_sain['age'].mean()\n",
    "m_age_cancer = groupe_cancer['age'].mean()\n",
    "std_age_sain = groupe_sain['age'].std()\n",
    "std_age_cancer = groupe_cancer['age'].std()\n",
    "n_sain = groupe_sain['age'].count()\n",
    "n_cancer = groupe_cancer['age'].count()\n",
    "\n",
    "conf_int_age_sain = stats.t.interval(0.95, df=n_sain-1, loc=m_age_sain, scale=std_age_sain/np.sqrt(n_sain))\n",
    "conf_int_age_cancer = stats.t.interval(0.95, df=n_cancer-1, loc=m_age_cancer, scale=std_age_cancer/np.sqrt(n_cancer))\n",
    "\n",
    "t_age, p_age = stats.ttest_ind(groupe_sain['age'].dropna(), groupe_cancer['age'].dropna(), equal_var=False)\n",
    "\n",
    "m_imc_sain = groupe_sain['imc'].mean()\n",
    "m_imc_cancer = groupe_cancer['imc'].mean()\n",
    "std_imc_sain = groupe_sain['imc'].std()\n",
    "std_imc_cancer = groupe_cancer['imc'].std()\n",
    "n_imc_sain = groupe_sain['imc'].count()\n",
    "n_imc_cancer = groupe_cancer['imc'].count()\n",
    "\n",
    "conf_int_imc_sain = stats.t.interval(0.99, df=n_imc_sain-1, loc=m_imc_sain, scale=std_imc_sain/np.sqrt(n_imc_sain))\n",
    "conf_int_imc_cancer = stats.t.interval(0.99, df=n_imc_cancer-1, loc=m_imc_cancer, scale=std_imc_cancer/np.sqrt(n_imc_cancer))\n",
    "\n",
    "t_imc, p_imc = stats.ttest_ind(groupe_sain['imc'].dropna(), groupe_cancer['imc'].dropna(), equal_var=False)\n",
    "\n",
    "print(\"ÂGE\")\n",
    "print(f\"IC 99% âge sains : {conf_int_age_sain[0]:.2f} - {conf_int_age_sain[1]:.2f}\")\n",
    "print(f\"IC 99% âge cancer : {conf_int_age_cancer[0]:.2f} - {conf_int_age_cancer[1]:.2f}\")\n",
    "print(f\"Différence significative ? {'Oui' if p_age < 0.05 else 'Non'} (p-value = {p_age:.4f})\")\n",
    "\n",
    "print(\"\\nIMC\")\n",
    "print(f\"IC 99% IMC sains : {conf_int_imc_sain[0]:.2f} - {conf_int_imc_sain[1]:.2f}\")\n",
    "print(f\"IC 99% IMC cancer : {conf_int_imc_cancer[0]:.2f} - {conf_int_imc_cancer[1]:.2f}\")\n",
    "print(f\"Différence significative ? {'Oui' if p_imc < 0.05 else 'Non'} (p-value = {p_imc:.4f})\")\n"
   ]
  },
  {
   "cell_type": "code",
   "execution_count": null,
   "id": "fa8f17ba",
   "metadata": {},
   "outputs": [],
   "source": []
  }
 ],
 "metadata": {
  "kernelspec": {
   "display_name": "3.11.11",
   "language": "python",
   "name": "python3"
  },
  "language_info": {
   "codemirror_mode": {
    "name": "ipython",
    "version": 3
   },
   "file_extension": ".py",
   "mimetype": "text/x-python",
   "name": "python",
   "nbconvert_exporter": "python",
   "pygments_lexer": "ipython3",
   "version": "3.11.11"
  }
 },
 "nbformat": 4,
 "nbformat_minor": 5
}
