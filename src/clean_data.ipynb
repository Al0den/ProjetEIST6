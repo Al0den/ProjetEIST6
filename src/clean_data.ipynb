{
 "cells": [
  {
   "cell_type": "code",
   "execution_count": 39,
   "id": "6ecbd92c",
   "metadata": {},
   "outputs": [],
   "source": [
    "import pandas as pd\n",
    "import os"
   ]
  },
  {
   "cell_type": "code",
   "execution_count": 40,
   "id": "a6fae376",
   "metadata": {},
   "outputs": [],
   "source": [
    "df_bio = pd.read_pickle('../data_raw/df_bio.pkl')\n",
    "df_condition = pd.read_pickle('../data_raw/df_condition.pkl')\n",
    "df_dedup_deterministic = pd.read_pickle('../data_raw/df_dedup_deterministic.pkl')\n",
    "df_dedup_proba = pd.read_pickle('../data_raw/df_dedup_proba.pkl')\n",
    "df_note = pd.read_pickle('../data_raw/df_note.pkl')\n",
    "df_person = pd.read_pickle('../data_raw/df_person.pkl')\n",
    "df_visit = pd.read_pickle('../data_raw/df_visit.pkl')"
   ]
  },
  {
   "cell_type": "code",
   "execution_count": 41,
   "id": "70aa87bb",
   "metadata": {},
   "outputs": [],
   "source": [
    "# Le CDM est identique pour tous les patients, on le supprime\n",
    "assert(len(df_person['cdm_source'].unique()) == 1)\n",
    "df_person_clean = df_person.drop(columns=['cdm_source'])\n",
    "\n",
    "# On supprime les patients sans date de naissance, ou avec une date de naissance trop ancienne (incoherent)\n",
    "df_person_clean = df_person_clean[df_person_clean['birth_datetime'] > '1920-01-01']\n",
    "\n",
    "# On adopte une unique convention pour le genre\n",
    "df_person_clean['gender_source_value'] = df_person_clean['gender_source_value'].replace({'f': 'female', 'm': 'male'})\n",
    "assert(len(df_person_clean.gender_source_value.unique()) == 2)\n",
    "\n",
    "# On supprime les hommes de l'étude\n",
    "df_person_clean = df_person_clean[df_person_clean['gender_source_value'] == 'female']\n",
    "assert(len(df_person_clean.gender_source_value.unique()) == 1)\n",
    "\n",
    "# On sauvegarde les données nettoyées dans un répertoire spécifique\n",
    "output_dir = '../data_clean'\n",
    "os.makedirs(output_dir, exist_ok=True)\n",
    "\n",
    "output_path = os.path.join(output_dir, 'df_person.pkl')\n",
    "df_person_clean.to_pickle(output_path)"
   ]
  },
  {
   "cell_type": "code",
   "execution_count": 42,
   "id": "35d8455b",
   "metadata": {},
   "outputs": [],
   "source": [
    "df_person_dedup_det = pd.merge(\n",
    "    df_person_clean,\n",
    "    df_dedup_deterministic,\n",
    "    on='person_id',\n",
    "    how='outer'\n",
    ")\n",
    "df_person_dedup_det['unique_person_id'] = df_person_dedup_det['unique_person_id'].fillna(df_person_dedup_det['person_id'])\n",
    "df_person_dedup_det = df_person_dedup_det.drop_duplicates(['unique_person_id'], keep='first')\n",
    "\n",
    "def deduplicate_proba(df_person, df_dedup_proba, score):\n",
    "    df_dedup_proba_score = df_dedup_proba[df_dedup_proba['prob'] > score]\n",
    "    df_person_dedup_proba = pd.merge(df_person, df_dedup_proba_score, on='person_id', how='outer')\n",
    "    df_person_dedup_proba['unique_person_id'] = df_person_dedup_proba['unique_person_id'].fillna(df_person_dedup_proba['person_id'])\n",
    "    df_person_dedup_proba = df_person_dedup_proba.drop_duplicates(['unique_person_id'], keep='first')\n",
    "    return df_person_dedup_proba\n",
    "\n",
    "df_person_dedup_proba_90 = deduplicate_proba(df_person_clean, df_dedup_proba, score=0.90)\n",
    "df_person_dedup_proba_20 = deduplicate_proba(df_person_clean, df_dedup_proba, score=0.20)"
   ]
  },
  {
   "cell_type": "code",
   "execution_count": null,
   "id": "411fc1a7",
   "metadata": {},
   "outputs": [
    {
     "name": "stdout",
     "output_type": "stream",
     "text": [
      "Original patient data:\n",
      "Unique patients: 975\n",
      "\n",
      "Deterministic deduplication:\n",
      "Unique patients: 967\n",
      "\n",
      "Probabilistic deduplication (threshold 0.90):\n",
      "Unique patients: 959\n",
      "\n",
      "Probabilistic deduplication (threshold 0.20):\n",
      "Unique patients: 953\n"
     ]
    }
   ],
   "source": [
    "print(\"Original patient data:\")\n",
    "print(f\"Unique patients: {df_person_clean['person_id'].nunique()}\")\n",
    "\n",
    "print('\\nDeterministic deduplication:')\n",
    "print(f\"Unique patients: {df_person_dedup_det['unique_person_id'].nunique()}\")\n",
    "\n",
    "print('\\nProbabilistic deduplication (threshold 0.90):')\n",
    "print(f\"Unique patients: {df_person_dedup_proba_90['unique_person_id'].nunique()}\")\n",
    "\n",
    "print('\\nProbabilistic deduplication (threshold 0.20):')\n",
    "print(f\"Unique patients: {df_person_dedup_proba_20['unique_person_id'].nunique()}\")"
   ]
  },
  {
   "cell_type": "code",
   "execution_count": 44,
   "id": "53d7ab52",
   "metadata": {},
   "outputs": [],
   "source": [
    "df_person_dedup_proba_90.to_pickle(os.path.join(output_dir, 'df_person.pkl'))\n",
    "\n",
    "df_person_dedup = df_person_dedup_proba_90"
   ]
  },
  {
   "cell_type": "code",
   "execution_count": 45,
   "id": "480e9632",
   "metadata": {},
   "outputs": [],
   "source": [
    "def update_with_unique_id(df_visit, df_person_dedup):\n",
    "    df_updated = pd.merge(\n",
    "        df_visit,\n",
    "        df_person_dedup[['person_id', 'unique_person_id']],\n",
    "        on='person_id',\n",
    "        how='left'\n",
    "    )\n",
    "\n",
    "    df_updated['unique_person_id'] = df_updated['unique_person_id'].fillna(df_updated['person_id'])\n",
    "    return df_updated\n",
    "\n",
    "df_visit_dedup = update_with_unique_id(df_visit, df_person_dedup)\n",
    "df_condition_dedup = update_with_unique_id(df_visit, df_person_dedup)"
   ]
  },
  {
   "cell_type": "code",
   "execution_count": 46,
   "id": "5d01721b",
   "metadata": {},
   "outputs": [],
   "source": [
    "def finalize_person_id(df):\n",
    "    df = df.drop(columns=['person_id'], errors='ignore')\n",
    "    df = df.rename(columns={'unique_person_id': 'person_id'})\n",
    "    return df\n",
    "\n",
    "df_person_final = finalize_person_id(df_person_dedup)\n",
    "df_visit_final = finalize_person_id(df_visit_dedup)\n",
    "df_condition_final = finalize_person_id(df_condition_dedup)\n",
    "\n",
    "df_person_final.to_pickle(os.path.join(output_dir, 'df_person.pkl'))\n",
    "df_visit_final.to_pickle(os.path.join(output_dir, 'df_visit.pkl'))\n",
    "df_condition_final.to_pickle(os.path.join(output_dir, 'df_condition.pkl'))"
   ]
  },
  {
   "cell_type": "code",
   "execution_count": 47,
   "id": "1dd45961",
   "metadata": {},
   "outputs": [],
   "source": [
    "df_visit = pd.read_pickle(os.path.join(output_dir, 'df_visit.pkl'))\n",
    "df_visit = df_visit[df_visit['person_id'].isin(df_person_final['person_id'])]\n",
    "pd.to_pickle(df_visit, os.path.join(output_dir, 'df_visit.pkl'))\n",
    "\n",
    "df_note = pd.read_pickle(os.path.join(output_dir, 'df_note.pkl'))\n",
    "df_note = df_note[df_note['visit_occurrence_id'].isin(df_visit['visit_occurrence_id'])]\n",
    "pd.to_pickle(df_note, os.path.join(output_dir, 'df_note.pkl'))\n",
    "\n",
    "df_condition = pd.read_pickle(os.path.join(output_dir, 'df_condition.pkl'))\n",
    "df_condition = df_condition[df_condition['person_id'].isin(df_person_final['person_id'])]\n",
    "pd.to_pickle(df_condition, os.path.join(output_dir, 'df_condition.pkl'))\n",
    "\n",
    "df_bio = pd.read_pickle(os.path.join(output_dir, 'df_bio.pkl'))\n",
    "df_bio = df_bio[df_bio['visit_occurrence_id'].isin(df_visit['visit_occurrence_id'])]\n",
    "pd.to_pickle(df_bio, os.path.join(output_dir, 'df_bio.pkl'))\n"
   ]
  }
 ],
 "metadata": {
  "kernelspec": {
   "display_name": "3.11.11",
   "language": "python",
   "name": "python3"
  },
  "language_info": {
   "codemirror_mode": {
    "name": "ipython",
    "version": 3
   },
   "file_extension": ".py",
   "mimetype": "text/x-python",
   "name": "python",
   "nbconvert_exporter": "python",
   "pygments_lexer": "ipython3",
   "version": "3.11.11"
  }
 },
 "nbformat": 4,
 "nbformat_minor": 5
}
