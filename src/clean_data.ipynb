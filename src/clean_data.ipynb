{
 "cells": [
  {
   "cell_type": "code",
   "execution_count": 23,
   "id": "6ecbd92c",
   "metadata": {},
   "outputs": [],
   "source": [
    "import pandas as pd\n",
    "import os"
   ]
  },
  {
   "cell_type": "code",
   "execution_count": null,
   "id": "a6fae376",
   "metadata": {},
   "outputs": [],
   "source": [
    "df_bio = pd.read_pickle('../data_raw/df_bio.pkl')\n",
    "df_condition = pd.read_pickle('../data_raw/df_condition.pkl')\n",
    "df_dedup_deterministic = pd.read_pickle('../data_raw/df_dedup_deterministic.pkl')\n",
    "df_dedup_proba = pd.read_pickle('../data_raw/df_dedup_proba.pkl')\n",
    "df_note = pd.read_pickle('../data_raw/df_note.pkl')\n",
    "df_person = pd.read_pickle('../data_raw/df_person.pkl')\n",
    "df_visit = pd.read_pickle('../data_raw/df_visit.pkl')"
   ]
  },
  {
   "cell_type": "markdown",
   "id": "f6e1ae3c",
   "metadata": {},
   "source": [
    "**df_person**"
   ]
  },
  {
   "cell_type": "code",
   "execution_count": 57,
   "id": "70aa87bb",
   "metadata": {},
   "outputs": [],
   "source": [
    "# Le CDM est identique pour tous les patients, on le supprime\n",
    "assert(len(df_person['cdm_source'].unique()) == 1)\n",
    "df_person_clean = df_person.drop(columns=['cdm_source'])\n",
    "\n",
    "# On supprime les patients sans date de naissance, ou avec une date de naissance trop ancienne (incoherent)\n",
    "df_person_clean = df_person_clean[df_person_clean['birth_datetime'] > '1920-01-01']\n",
    "\n",
    "# Transform the gender source value that are equal to f to female and m to male\n",
    "df_person_clean['gender_source_value'] = df_person_clean['gender_source_value'].replace({'f': 'female', 'm': 'male'})\n",
    "assert(len(df_person_clean.gender_source_value.unique()) == 2)\n",
    "\n",
    "# Remove male patients\n",
    "df_person_clean = df_person_clean[df_person_clean['gender_source_value'] == 'female']\n",
    "assert(len(df_person_clean.gender_source_value.unique()) == 1)\n",
    "\n",
    "# Save it as a pickle to dara_clean\n",
    "output_dir = '../data_clean'\n",
    "os.makedirs(output_dir, exist_ok=True)\n",
    "\n",
    "# Sauvegarder le DataFrame nettoyé sous forme de pickle dans data_clean\n",
    "output_path = os.path.join(output_dir, 'df_person.pkl')\n",
    "df_person_clean.to_pickle(output_path)"
   ]
  },
  {
   "cell_type": "markdown",
   "id": "3803a18f",
   "metadata": {},
   "source": [
    "**df_bio**"
   ]
  },
  {
   "cell_type": "code",
   "execution_count": 56,
   "id": "94ff4561",
   "metadata": {},
   "outputs": [],
   "source": [
    "df_bio_clean = df_bio\n",
    "\n",
    "output_path = os.path.join(output_dir, 'df_bio.pkl')\n",
    "df_bio_clean.to_pickle(output_path)"
   ]
  },
  {
   "cell_type": "code",
   "execution_count": 55,
   "id": "56ffecd0",
   "metadata": {},
   "outputs": [],
   "source": [
    "df_visit_clean = df_visit[df_visit['person_id'].isin(df_person_clean['person_id'])]\n",
    "\n",
    "output_path = os.path.join(output_dir, 'df_visit.pkl')\n",
    "df_visit_clean.to_pickle(output_path)"
   ]
  },
  {
   "cell_type": "code",
   "execution_count": null,
   "id": "e23b4b76",
   "metadata": {},
   "outputs": [
    {
     "name": "stdout",
     "output_type": "stream",
     "text": [
      "<class 'pandas.core.frame.DataFrame'>\n",
      "RangeIndex: 1547 entries, 0 to 1546\n",
      "Data columns (total 5 columns):\n",
      " #   Column               Non-Null Count  Dtype         \n",
      "---  ------               --------------  -----         \n",
      " 0   visit_occurrence_id  1547 non-null   float64       \n",
      " 1   note_datetime        1547 non-null   datetime64[ns]\n",
      " 2   note_id              1547 non-null   float64       \n",
      " 3   cdm_source           1547 non-null   object        \n",
      " 4   note_text            1547 non-null   object        \n",
      "dtypes: datetime64[ns](1), float64(2), object(2)\n",
      "memory usage: 60.6+ KB\n"
     ]
    }
   ],
   "source": [
    "df_note_clean = df_note.drop(columns=['cdm_source'])\n",
    "df_note_clean = df_note_clean[df_note_clean['visit_occurrence_id'].isin(df_visit_clean['visit_occurrence_id'])]\n",
    "\n",
    "df_note_clean.info()\n",
    "\n",
    "output_path = os.path.join(output_dir, 'df_note.pkl')\n",
    "df_note_clean.to_pickle(output_path)\n"
   ]
  },
  {
   "cell_type": "code",
   "execution_count": null,
   "id": "3323195c",
   "metadata": {},
   "outputs": [],
   "source": []
  }
 ],
 "metadata": {
  "kernelspec": {
   "display_name": "3.11.11",
   "language": "python",
   "name": "python3"
  },
  "language_info": {
   "codemirror_mode": {
    "name": "ipython",
    "version": 3
   },
   "file_extension": ".py",
   "mimetype": "text/x-python",
   "name": "python",
   "nbconvert_exporter": "python",
   "pygments_lexer": "ipython3",
   "version": "3.11.11"
  }
 },
 "nbformat": 4,
 "nbformat_minor": 5
}
