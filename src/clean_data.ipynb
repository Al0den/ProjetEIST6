{
 "cells": [
  {
   "cell_type": "code",
   "execution_count": 113,
   "id": "6ecbd92c",
   "metadata": {},
   "outputs": [],
   "source": [
    "import pandas as pd\n",
    "import os\n",
    "from datetime import datetime"
   ]
  },
  {
   "cell_type": "code",
   "execution_count": 114,
   "id": "f83ae037",
   "metadata": {},
   "outputs": [],
   "source": [
    "seuil_imc = 25"
   ]
  },
  {
   "cell_type": "code",
   "execution_count": 115,
   "id": "a6fae376",
   "metadata": {},
   "outputs": [],
   "source": [
    "df_bio = pd.read_pickle('../data_raw/df_bio.pkl')\n",
    "df_condition = pd.read_pickle('../data_raw/df_condition.pkl')\n",
    "df_dedup_deterministic = pd.read_pickle('../data_raw/df_dedup_deterministic.pkl')\n",
    "df_dedup_proba = pd.read_pickle('../data_raw/df_dedup_proba.pkl')\n",
    "df_note = pd.read_pickle('../data_raw/df_note.pkl')\n",
    "df_person = pd.read_pickle('../data_raw/df_person.pkl')\n",
    "df_visit = pd.read_pickle('../data_raw/df_visit.pkl')\n",
    "\n",
    "input_dir = \"../data_raw/\"\n"
   ]
  },
  {
   "cell_type": "code",
   "execution_count": 116,
   "id": "70aa87bb",
   "metadata": {},
   "outputs": [],
   "source": [
    "# Le CDM est identique pour tous les patients, on le supprime\n",
    "assert(len(df_person['cdm_source'].unique()) == 1)\n",
    "df_person_clean = df_person.drop(columns=['cdm_source'])\n",
    "\n",
    "# On supprime les patients sans date de naissance, ou avec une date de naissance trop ancienne (incoherent)\n",
    "df_person_clean = df_person_clean[df_person_clean['birth_datetime'] > '1920-01-01']\n",
    "\n",
    "# On adopte une unique convention pour le genre\n",
    "df_person_clean['gender_source_value'] = df_person_clean['gender_source_value'].replace({'f': 'female', 'm': 'male'})\n",
    "assert(len(df_person_clean.gender_source_value.unique()) == 2)\n",
    "\n",
    "# On supprime les hommes de l'étude\n",
    "df_person_clean = df_person_clean[df_person_clean['gender_source_value'] == 'female']\n",
    "assert(len(df_person_clean.gender_source_value.unique()) == 1)\n",
    "\n",
    "# On sauvegarde les données nettoyées dans un répertoire spécifique\n",
    "output_dir = '../data_clean'\n",
    "os.makedirs(output_dir, exist_ok=True)\n",
    "\n",
    "output_path = os.path.join(output_dir, 'df_person.pkl')\n",
    "df_person_clean.to_pickle(output_path)"
   ]
  },
  {
   "cell_type": "code",
   "execution_count": 117,
   "id": "35d8455b",
   "metadata": {},
   "outputs": [],
   "source": [
    "df_person_dedup_det = pd.merge(\n",
    "    df_person_clean,\n",
    "    df_dedup_deterministic,\n",
    "    on='person_id',\n",
    "    how='outer'\n",
    ")\n",
    "df_person_dedup_det['unique_person_id'] = df_person_dedup_det['unique_person_id'].fillna(df_person_dedup_det['person_id'])\n",
    "df_person_dedup_det = df_person_dedup_det.drop_duplicates(['unique_person_id'], keep='first')\n",
    "\n",
    "def deduplicate_proba(df_person, df_dedup_proba, score):\n",
    "    df_dedup_proba_score = df_dedup_proba[df_dedup_proba['prob'] > score]\n",
    "    df_person_dedup_proba = pd.merge(df_person, df_dedup_proba_score, on='person_id', how='outer')\n",
    "    df_person_dedup_proba['unique_person_id'] = df_person_dedup_proba['unique_person_id'].fillna(df_person_dedup_proba['person_id'])\n",
    "    df_person_dedup_proba = df_person_dedup_proba.drop_duplicates(['unique_person_id'], keep='first')\n",
    "    return df_person_dedup_proba\n",
    "\n",
    "df_person_dedup_proba_90 = deduplicate_proba(df_person_clean, df_dedup_proba, score=0.90)\n",
    "df_person_dedup_proba_20 = deduplicate_proba(df_person_clean, df_dedup_proba, score=0.20)"
   ]
  },
  {
   "cell_type": "code",
   "execution_count": 118,
   "id": "411fc1a7",
   "metadata": {},
   "outputs": [
    {
     "name": "stdout",
     "output_type": "stream",
     "text": [
      "Original patient data:\n",
      "Unique patients: 975\n",
      "\n",
      "Deterministic deduplication:\n",
      "Unique patients: 967\n",
      "\n",
      "Probabilistic deduplication (threshold 0.90):\n",
      "Unique patients: 959\n",
      "\n",
      "Probabilistic deduplication (threshold 0.20):\n",
      "Unique patients: 953\n"
     ]
    }
   ],
   "source": [
    "print(\"Original patient data:\")\n",
    "print(f\"Unique patients: {df_person_clean['person_id'].nunique()}\")\n",
    "\n",
    "print('\\nDeterministic deduplication:')\n",
    "print(f\"Unique patients: {df_person_dedup_det['unique_person_id'].nunique()}\")\n",
    "\n",
    "print('\\nProbabilistic deduplication (threshold 0.90):')\n",
    "print(f\"Unique patients: {df_person_dedup_proba_90['unique_person_id'].nunique()}\")\n",
    "\n",
    "print('\\nProbabilistic deduplication (threshold 0.20):')\n",
    "print(f\"Unique patients: {df_person_dedup_proba_20['unique_person_id'].nunique()}\")"
   ]
  },
  {
   "cell_type": "code",
   "execution_count": 119,
   "id": "53d7ab52",
   "metadata": {},
   "outputs": [],
   "source": [
    "df_person_dedup_proba_90.to_pickle(os.path.join(output_dir, 'df_person.pkl'))\n",
    "\n",
    "df_person_dedup = df_person_dedup_proba_90"
   ]
  },
  {
   "cell_type": "code",
   "execution_count": 120,
   "id": "480e9632",
   "metadata": {},
   "outputs": [],
   "source": [
    "def update_with_unique_id(df_visit, df_person_dedup):\n",
    "    df_updated = pd.merge(\n",
    "        df_visit,\n",
    "        df_person_dedup[['person_id', 'unique_person_id']],\n",
    "        on='person_id',\n",
    "        how='left'\n",
    "    )\n",
    "\n",
    "    df_updated['unique_person_id'] = df_updated['unique_person_id'].fillna(df_updated['person_id'])\n",
    "    return df_updated\n",
    "\n",
    "df_visit_dedup = update_with_unique_id(df_visit, df_person_dedup)\n",
    "df_condition_dedup = update_with_unique_id(df_condition, df_person_dedup)"
   ]
  },
  {
   "cell_type": "code",
   "execution_count": 121,
   "id": "5d01721b",
   "metadata": {},
   "outputs": [],
   "source": [
    "def finalize_person_id(df):\n",
    "    df = df.drop(columns=['person_id'], errors='ignore')\n",
    "    df = df.rename(columns={'unique_person_id': 'person_id'})\n",
    "    return df\n",
    "\n",
    "df_person_final = finalize_person_id(df_person_dedup)\n",
    "df_visit_final = finalize_person_id(df_visit_dedup)\n",
    "df_condition_final = finalize_person_id(df_condition_dedup)\n",
    "\n",
    "df_person_final.to_pickle(os.path.join(output_dir, 'df_person.pkl'))\n",
    "df_visit_final.to_pickle(os.path.join(output_dir, 'df_visit.pkl'))\n",
    "df_condition_final.to_pickle(os.path.join(output_dir, 'df_condition.pkl'))"
   ]
  },
  {
   "cell_type": "code",
   "execution_count": 122,
   "id": "1dd45961",
   "metadata": {},
   "outputs": [
    {
     "data": {
      "text/html": [
       "<div>\n",
       "<style scoped>\n",
       "    .dataframe tbody tr th:only-of-type {\n",
       "        vertical-align: middle;\n",
       "    }\n",
       "\n",
       "    .dataframe tbody tr th {\n",
       "        vertical-align: top;\n",
       "    }\n",
       "\n",
       "    .dataframe thead th {\n",
       "        text-align: right;\n",
       "    }\n",
       "</style>\n",
       "<table border=\"1\" class=\"dataframe\">\n",
       "  <thead>\n",
       "    <tr style=\"text-align: right;\">\n",
       "      <th></th>\n",
       "      <th>birth_datetime</th>\n",
       "      <th>death_datetime</th>\n",
       "      <th>gender_source_value</th>\n",
       "      <th>person_id</th>\n",
       "      <th>prob</th>\n",
       "    </tr>\n",
       "  </thead>\n",
       "  <tbody>\n",
       "    <tr>\n",
       "      <th>0</th>\n",
       "      <td>1961-07-09</td>\n",
       "      <td>2022-02-20</td>\n",
       "      <td>female</td>\n",
       "      <td>80006137.0</td>\n",
       "      <td>NaN</td>\n",
       "    </tr>\n",
       "    <tr>\n",
       "      <th>1</th>\n",
       "      <td>1951-12-31</td>\n",
       "      <td>2024-07-28</td>\n",
       "      <td>female</td>\n",
       "      <td>80021799.0</td>\n",
       "      <td>NaN</td>\n",
       "    </tr>\n",
       "    <tr>\n",
       "      <th>2</th>\n",
       "      <td>1959-11-16</td>\n",
       "      <td>NaT</td>\n",
       "      <td>female</td>\n",
       "      <td>80034258.0</td>\n",
       "      <td>NaN</td>\n",
       "    </tr>\n",
       "    <tr>\n",
       "      <th>3</th>\n",
       "      <td>1975-01-23</td>\n",
       "      <td>NaT</td>\n",
       "      <td>female</td>\n",
       "      <td>89552692.0</td>\n",
       "      <td>1.0</td>\n",
       "    </tr>\n",
       "    <tr>\n",
       "      <th>4</th>\n",
       "      <td>1951-10-29</td>\n",
       "      <td>NaT</td>\n",
       "      <td>female</td>\n",
       "      <td>80071532.0</td>\n",
       "      <td>NaN</td>\n",
       "    </tr>\n",
       "  </tbody>\n",
       "</table>\n",
       "</div>"
      ],
      "text/plain": [
       "  birth_datetime death_datetime gender_source_value   person_id  prob\n",
       "0     1961-07-09     2022-02-20              female  80006137.0   NaN\n",
       "1     1951-12-31     2024-07-28              female  80021799.0   NaN\n",
       "2     1959-11-16            NaT              female  80034258.0   NaN\n",
       "3     1975-01-23            NaT              female  89552692.0   1.0\n",
       "4     1951-10-29            NaT              female  80071532.0   NaN"
      ]
     },
     "execution_count": 122,
     "metadata": {},
     "output_type": "execute_result"
    }
   ],
   "source": [
    "df_visit = pd.read_pickle(os.path.join(output_dir, 'df_visit.pkl'))\n",
    "df_visit = df_visit[df_visit['person_id'].isin(df_person_final['person_id'])]\n",
    "pd.to_pickle(df_visit, os.path.join(output_dir, 'df_visit.pkl'))\n",
    "\n",
    "df_note = pd.read_pickle(os.path.join(input_dir, 'df_note.pkl'))\n",
    "df_note = df_note[df_note['visit_occurrence_id'].isin(df_visit['visit_occurrence_id'])]\n",
    "pd.to_pickle(df_note, os.path.join(output_dir, 'df_note.pkl'))\n",
    "\n",
    "df_condition = pd.read_pickle(os.path.join(output_dir, 'df_condition.pkl'))\n",
    "df_condition = df_condition[df_condition['person_id'].isin(df_person_final['person_id'])]\n",
    "pd.to_pickle(df_condition, os.path.join(output_dir, 'df_condition.pkl'))\n",
    "\n",
    "df_bio = pd.read_pickle(os.path.join(input_dir, 'df_bio.pkl'))\n",
    "df_bio = df_bio[df_bio['visit_occurrence_id'].isin(df_visit['visit_occurrence_id'])]\n",
    "pd.to_pickle(df_bio, os.path.join(output_dir, 'df_bio.pkl'))\n",
    "\n",
    "df_person_final.head()\n"
   ]
  },
  {
   "cell_type": "code",
   "execution_count": 125,
   "id": "ef1666f5",
   "metadata": {},
   "outputs": [],
   "source": [
    "df_facteur_risque = df_person_final.copy()\n",
    "\n",
    "def a_le_cancer_sein(person_id, df_condition):\n",
    "    cancer_sein_codes = {\"C50\", \"C500\", \"C501\", \"C502\", \"C503\", \"C504\"}\n",
    "    patient_conditions = df_condition[df_condition['person_id'] == person_id]\n",
    "    return any(str(code) in cancer_sein_codes for code in patient_conditions['condition_source_value'])\n",
    "\n",
    "df_facteur_risque.drop(columns=['birth_datetime', \"death_datetime\", \"gender_source_value\", \"prob\"], inplace=True)\n",
    "df_bio['person_id'] = df_bio['visit_occurrence_id'].map(df_visit.set_index('visit_occurrence_id')['person_id'])\n",
    "\n",
    "reference_date = datetime(2025, 12, 1)\n",
    "\n",
    "for person_id in df_facteur_risque['person_id'].unique():\n",
    "    target = df_bio[df_bio['person_id'] == person_id].copy()\n",
    "    bmi_only = target[target['concept_source_value'] == \"bmi\"]\n",
    "    imc = bmi_only['transformed_value'].values[0]\n",
    "    df_facteur_risque.loc[df_facteur_risque['person_id'] == person_id, 'imc'] = imc\n",
    "\n",
    "for person_id in df_facteur_risque['person_id'].unique():\n",
    "    row = df_person_final[df_person_final['person_id'] == person_id]\n",
    "\n",
    "    birth = row['birth_datetime'].values[0]\n",
    "    death = row['death_datetime'].values[0] if not pd.isna(row['death_datetime'].values[0]) else None\n",
    "\n",
    "    end_date = pd.to_datetime(death) if death else reference_date\n",
    "    age = (end_date - pd.to_datetime(birth)).days / 365.25\n",
    "\n",
    "    df_facteur_risque.loc[df_facteur_risque['person_id'] == person_id, 'age'] = age\n",
    "\n",
    "for person_id in df_facteur_risque['person_id'].unique():\n",
    "    has_cancer = a_le_cancer_sein(person_id, df_condition)\n",
    "    df_facteur_risque.loc[df_facteur_risque['person_id'] == person_id, 'cancer_sein'] = has_cancer\n",
    "\n",
    "pd.to_pickle(df_facteur_risque, os.path.join(output_dir, 'df_facteur_risque.pkl'))"
   ]
  },
  {
   "cell_type": "code",
   "execution_count": null,
   "id": "d85597be",
   "metadata": {},
   "outputs": [],
   "source": []
  }
 ],
 "metadata": {
  "kernelspec": {
   "display_name": "3.11.11",
   "language": "python",
   "name": "python3"
  },
  "language_info": {
   "codemirror_mode": {
    "name": "ipython",
    "version": 3
   },
   "file_extension": ".py",
   "mimetype": "text/x-python",
   "name": "python",
   "nbconvert_exporter": "python",
   "pygments_lexer": "ipython3",
   "version": "3.11.11"
  }
 },
 "nbformat": 4,
 "nbformat_minor": 5
}
