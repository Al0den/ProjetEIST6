{
 "cells": [
  {
   "cell_type": "markdown",
   "id": "23704bbe",
   "metadata": {},
   "source": [
    "# Clean Data\n",
    "\n",
    "Ce fichier prend en entré des données dites `raw`, et les transformes en données utilisables pour le reste du projet. A travers ce projet, la logique est que seul ce fichier utilise les données dans `data_raw/`, et les autres fichiers n'utilisent que le dossier `data_clean/`, produit ici."
   ]
  },
  {
   "cell_type": "markdown",
   "id": "c184b862",
   "metadata": {},
   "source": [
    "**Chargement des librairies**"
   ]
  },
  {
   "cell_type": "code",
   "execution_count": 37,
   "id": "6ecbd92c",
   "metadata": {},
   "outputs": [],
   "source": [
    "import pandas as pd\n",
    "import os\n",
    "from datetime import datetime"
   ]
  },
  {
   "cell_type": "markdown",
   "id": "b837300e",
   "metadata": {},
   "source": [
    "**Chargement des données initiales, non filtrés**\n",
    "|"
   ]
  },
  {
   "cell_type": "code",
   "execution_count": 38,
   "id": "a6fae376",
   "metadata": {},
   "outputs": [],
   "source": [
    "df_bio = pd.read_pickle('../data_raw/df_bio.pkl')\n",
    "df_condition = pd.read_pickle('../data_raw/df_condition.pkl')\n",
    "df_dedup_deterministic = pd.read_pickle('../data_raw/df_dedup_deterministic.pkl')\n",
    "df_dedup_proba = pd.read_pickle('../data_raw/df_dedup_proba.pkl')\n",
    "df_note = pd.read_pickle('../data_raw/df_note.pkl')\n",
    "df_person = pd.read_pickle('../data_raw/df_person.pkl')\n",
    "df_visit = pd.read_pickle('../data_raw/df_visit.pkl')\n",
    " \n",
    "input_dir = \"../data_raw/\"\n",
    "output_dir = '../data_clean'\n",
    "\n",
    "os.makedirs(output_dir, exist_ok=True)"
   ]
  },
  {
   "cell_type": "markdown",
   "id": "5257f835",
   "metadata": {},
   "source": [
    "**Clean de la base de données df_person**"
   ]
  },
  {
   "cell_type": "code",
   "execution_count": 39,
   "id": "70aa87bb",
   "metadata": {},
   "outputs": [],
   "source": [
    "# Le CDM est identique pour tous les patients, on le supprime\n",
    "assert(len(df_person['cdm_source'].unique()) == 1)\n",
    "df_person_clean = df_person.drop(columns=['cdm_source'])\n",
    "\n",
    "# On supprime les patients sans date de naissance, ou avec une date de naissance trop ancienne (incoherent)\n",
    "df_person_clean = df_person_clean[df_person_clean['birth_datetime'] > '1920-01-01']\n",
    "\n",
    "# On adopte une unique convention pour le genre\n",
    "df_person_clean['gender_source_value'] = df_person_clean['gender_source_value'].replace({'f': 'female', 'm': 'male'})\n",
    "assert(len(df_person_clean.gender_source_value.unique()) == 2)\n",
    "\n",
    "# On supprime les hommes de l'étude\n",
    "df_person_clean = df_person_clean[df_person_clean['gender_source_value'] == 'female']\n",
    "assert(len(df_person_clean.gender_source_value.unique()) == 1)\n",
    "\n",
    "# On sauvegarde les données nettoyées dans un répertoire spécifique\n",
    "output_path = os.path.join(output_dir, 'df_person.pkl')\n",
    "df_person_clean.to_pickle(output_path)"
   ]
  },
  {
   "cell_type": "markdown",
   "id": "1cf0a2c2",
   "metadata": {},
   "source": [
    "**Suppression des patients dédupliqués**"
   ]
  },
  {
   "cell_type": "code",
   "execution_count": 40,
   "id": "35d8455b",
   "metadata": {},
   "outputs": [],
   "source": [
    "df_person_dedup_det = pd.merge(\n",
    "    df_person_clean,\n",
    "    df_dedup_deterministic,\n",
    "    on='person_id',\n",
    "    how='outer'\n",
    ")\n",
    "df_person_dedup_det['unique_person_id'] = df_person_dedup_det['unique_person_id'].fillna(df_person_dedup_det['person_id'])\n",
    "df_person_dedup_det = df_person_dedup_det.drop_duplicates(['unique_person_id'], keep='first')\n",
    "\n",
    "# Fonction générique, pour tester différents seuils de probabilité facilement\n",
    "def deduplicate_proba(df_person, df_dedup_proba, score):\n",
    "    df_dedup_proba_score = df_dedup_proba[df_dedup_proba['prob'] > score]\n",
    "    df_person_dedup_proba = pd.merge(df_person, df_dedup_proba_score, on='person_id', how='outer')\n",
    "    df_person_dedup_proba['unique_person_id'] = df_person_dedup_proba['unique_person_id'].fillna(df_person_dedup_proba['person_id'])\n",
    "    df_person_dedup_proba = df_person_dedup_proba.drop_duplicates(['unique_person_id'], keep='first')\n",
    "    return df_person_dedup_proba\n",
    "\n",
    "df_person_dedup_proba_90 = deduplicate_proba(df_person_clean, df_dedup_proba, score=0.90)\n",
    "df_person_dedup_proba_20 = deduplicate_proba(df_person_clean, df_dedup_proba, score=0.20)"
   ]
  },
  {
   "cell_type": "code",
   "execution_count": 41,
   "id": "411fc1a7",
   "metadata": {},
   "outputs": [
    {
     "name": "stdout",
     "output_type": "stream",
     "text": [
      "Original patient data:\n",
      "Unique patients: 975\n",
      "\n",
      "Deterministic deduplication:\n",
      "Unique patients: 967\n",
      "\n",
      "Probabilistic deduplication (threshold 0.90):\n",
      "Unique patients: 959\n",
      "\n",
      "Probabilistic deduplication (threshold 0.20):\n",
      "Unique patients: 953\n"
     ]
    }
   ],
   "source": [
    "print(\"Original patient data:\")\n",
    "print(f\"Unique patients: {df_person_clean['person_id'].nunique()}\")\n",
    "\n",
    "print('\\nDeterministic deduplication:')\n",
    "print(f\"Unique patients: {df_person_dedup_det['unique_person_id'].nunique()}\")\n",
    "\n",
    "print('\\nProbabilistic deduplication (threshold 0.90):')\n",
    "print(f\"Unique patients: {df_person_dedup_proba_90['unique_person_id'].nunique()}\")\n",
    "\n",
    "print('\\nProbabilistic deduplication (threshold 0.20):')\n",
    "print(f\"Unique patients: {df_person_dedup_proba_20['unique_person_id'].nunique()}\")"
   ]
  },
  {
   "cell_type": "code",
   "execution_count": 42,
   "id": "53d7ab52",
   "metadata": {},
   "outputs": [],
   "source": [
    "df_person_dedup_proba_90.to_pickle(os.path.join(output_dir, 'df_person.pkl'))\n",
    "\n",
    "df_person_dedup = df_person_dedup_proba_90"
   ]
  },
  {
   "cell_type": "code",
   "execution_count": 43,
   "id": "480e9632",
   "metadata": {},
   "outputs": [],
   "source": [
    "# Utilisation de la fonction pour mettre à jour les identifiants uniques dans df_visit et df_condition, pour n'utiliser que les identifiants uniques\n",
    "def update_with_unique_id(df_visit, df_person_dedup):\n",
    "    df_updated = pd.merge(\n",
    "        df_visit,\n",
    "        df_person_dedup[['person_id', 'unique_person_id']],\n",
    "        on='person_id',\n",
    "        how='left'\n",
    "    )\n",
    "\n",
    "    df_updated['unique_person_id'] = df_updated['unique_person_id'].fillna(df_updated['person_id'])\n",
    "    return df_updated\n",
    "\n",
    "df_visit_dedup = update_with_unique_id(df_visit, df_person_dedup)\n",
    "df_condition_dedup = update_with_unique_id(df_condition, df_person_dedup)"
   ]
  },
  {
   "cell_type": "code",
   "execution_count": 44,
   "id": "5d01721b",
   "metadata": {},
   "outputs": [],
   "source": [
    "def finalize_person_id(df):\n",
    "    df = df.drop(columns=['person_id'], errors='ignore')\n",
    "    df = df.rename(columns={'unique_person_id': 'person_id'})\n",
    "    return df\n",
    "\n",
    "df_person_final = finalize_person_id(df_person_dedup)\n",
    "df_visit_final = finalize_person_id(df_visit_dedup)\n",
    "df_condition_final = finalize_person_id(df_condition_dedup)\n",
    "\n",
    "df_person_final.to_pickle(os.path.join(output_dir, 'df_person.pkl'))\n",
    "df_visit_final.to_pickle(os.path.join(output_dir, 'df_visit.pkl'))\n",
    "df_condition_final.to_pickle(os.path.join(output_dir, 'df_condition.pkl'))"
   ]
  },
  {
   "cell_type": "markdown",
   "id": "bfcbad5b",
   "metadata": {},
   "source": [
    "**Réflexion sur les autres bases de données**"
   ]
  },
  {
   "cell_type": "code",
   "execution_count": 45,
   "id": "1dd45961",
   "metadata": {},
   "outputs": [],
   "source": [
    "df_visit = pd.read_pickle(os.path.join(output_dir, 'df_visit.pkl'))\n",
    "df_visit = df_visit[df_visit['person_id'].isin(df_person_final['person_id'])]\n",
    "pd.to_pickle(df_visit, os.path.join(output_dir, 'df_visit.pkl'))\n",
    "\n",
    "df_note = pd.read_pickle(os.path.join(input_dir, 'df_note.pkl'))\n",
    "df_note = df_note[df_note['visit_occurrence_id'].isin(df_visit['visit_occurrence_id'])]\n",
    "pd.to_pickle(df_note, os.path.join(output_dir, 'df_note.pkl'))\n",
    "\n",
    "df_condition = pd.read_pickle(os.path.join(output_dir, 'df_condition.pkl'))\n",
    "df_condition = df_condition[df_condition['person_id'].isin(df_person_final['person_id'])]\n",
    "pd.to_pickle(df_condition, os.path.join(output_dir, 'df_condition.pkl'))\n",
    "\n",
    "df_bio = pd.read_pickle(os.path.join(input_dir, 'df_bio.pkl'))\n",
    "df_bio = df_bio[df_bio['visit_occurrence_id'].isin(df_visit['visit_occurrence_id'])]\n",
    "pd.to_pickle(df_bio, os.path.join(output_dir, 'df_bio.pkl'))\n"
   ]
  },
  {
   "cell_type": "markdown",
   "id": "249be568",
   "metadata": {},
   "source": [
    "**Création de la table `df_facteur_risque` pour stocker les différents facteurs de risque relevés**"
   ]
  },
  {
   "cell_type": "code",
   "execution_count": 46,
   "id": "ef1666f5",
   "metadata": {},
   "outputs": [],
   "source": [
    "df_facteur_risque = df_person_final.copy()\n",
    "\n",
    "# Determine si une personnes est indiqué comme ayant un cancer du sein dans la base de donnée\n",
    "def a_le_cancer_sein(person_id, df_condition):\n",
    "    cancer_sein_codes = {\"C50\", \"C500\", \"C501\", \"C502\", \"C503\", \"C504\"}\n",
    "    patient_conditions = df_condition[df_condition['person_id'] == person_id]\n",
    "    return any(str(code) in cancer_sein_codes for code in patient_conditions['condition_source_value'])\n",
    "\n",
    "def bois_alcool(person_id, df_condition):\n",
    "    # On considère que le patient a un problème d'alcool si il a une condition liée à l'alcool\n",
    "    alcool_codes = {\"T51\"}\n",
    "    patient_conditions = df_condition[df_condition['person_id'] == person_id]\n",
    "    return any(str(code) in alcool_codes for code in patient_conditions['condition_source_value'])\n",
    "\n",
    "df_bio['person_id'] = df_bio['visit_occurrence_id'].map(df_visit.set_index('visit_occurrence_id')['person_id'])\n",
    "\n",
    "# Ajouter l'IMC a la table df_facteur_risque\n",
    "for person_id in df_facteur_risque['person_id'].unique():\n",
    "    target = df_bio[df_bio['person_id'] == person_id].copy()\n",
    "    bmi_only = target[target['concept_source_value'] == \"bmi\"]\n",
    "    imc = bmi_only['transformed_value'].values[0]\n",
    "    df_facteur_risque.loc[df_facteur_risque['person_id'] == person_id, 'imc'] = imc\n",
    "\n",
    "# Dernière date de visite d'un patient\n",
    "def get_last_visit_date(person_id, df_visit):\n",
    "    visites = df_visit[df_visit['person_id'] == person_id]\n",
    "\n",
    "    return visites['visit_start_datetime'].max()\n",
    "\n",
    "# Calculer l'âge de chaque patient à partir de sa date de naissance et de la dernière visite ou de la date de décès\n",
    "for person_id in df_facteur_risque['person_id'].unique():\n",
    "    row = df_person_final[df_person_final['person_id'] == person_id]\n",
    "\n",
    "    birth = row['birth_datetime'].values[0]\n",
    "    death = row['death_datetime'].values[0] if not pd.isna(row['death_datetime'].values[0]) else None\n",
    "\n",
    "    end_date = pd.to_datetime(death) if death else pd.to_datetime(get_last_visit_date(person_id, df_visit))\n",
    "    age = (end_date - pd.to_datetime(birth)).days / 365.25\n",
    "\n",
    "    df_facteur_risque.loc[df_facteur_risque['person_id'] == person_id, 'age'] = age\n",
    "\n",
    "for person_id in df_facteur_risque['person_id'].unique():\n",
    "    has_cancer = a_le_cancer_sein(person_id, df_condition)\n",
    "    df_facteur_risque.loc[df_facteur_risque['person_id'] == person_id, 'cancer_sein'] = has_cancer\n",
    "\n",
    "    alcool_consomation = bois_alcool(person_id, df_condition)\n",
    "    df_facteur_risque.loc[df_facteur_risque['person_id'] == person_id, 'alcool'] = alcool_consomation\n",
    "\n",
    "# Suppressions des colonnes inutiles, du a la manière d'on on copie les person_id\n",
    "df_facteur_risque.drop(columns=['birth_datetime', \"death_datetime\", \"gender_source_value\", \"prob\"], inplace=True)\n",
    "\n",
    "pd.to_pickle(df_facteur_risque, os.path.join(output_dir, 'df_facteur_risque.pkl'))"
   ]
  },
  {
   "cell_type": "code",
   "execution_count": null,
   "id": "dffc9d4b",
   "metadata": {},
   "outputs": [],
   "source": []
  }
 ],
 "metadata": {
  "kernelspec": {
   "display_name": "3.11.11",
   "language": "python",
   "name": "python3"
  },
  "language_info": {
   "codemirror_mode": {
    "name": "ipython",
    "version": 3
   },
   "file_extension": ".py",
   "mimetype": "text/x-python",
   "name": "python",
   "nbconvert_exporter": "python",
   "pygments_lexer": "ipython3",
   "version": "3.11.11"
  }
 },
 "nbformat": 4,
 "nbformat_minor": 5
}
