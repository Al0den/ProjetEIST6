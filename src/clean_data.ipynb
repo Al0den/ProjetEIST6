{
 "cells": [
  {
   "cell_type": "code",
   "execution_count": 80,
   "id": "6ecbd92c",
   "metadata": {},
   "outputs": [],
   "source": [
    "import pandas as pd\n",
    "import os"
   ]
  },
  {
   "cell_type": "code",
   "execution_count": 81,
   "id": "a6fae376",
   "metadata": {},
   "outputs": [],
   "source": [
    "df_bio = pd.read_pickle('../data_raw/df_bio.pkl')\n",
    "df_condition = pd.read_pickle('../data_raw/df_condition.pkl')\n",
    "df_dedup_deterministic = pd.read_pickle('../data_raw/df_dedup_deterministic.pkl')\n",
    "df_dedup_proba = pd.read_pickle('../data_raw/df_dedup_proba.pkl')\n",
    "df_note = pd.read_pickle('../data_raw/df_note.pkl')\n",
    "df_person = pd.read_pickle('../data_raw/df_person.pkl')\n",
    "df_visit = pd.read_pickle('../data_raw/df_visit.pkl')"
   ]
  },
  {
   "cell_type": "markdown",
   "id": "f6e1ae3c",
   "metadata": {},
   "source": [
    "**df_person**"
   ]
  },
  {
   "cell_type": "code",
   "execution_count": 82,
   "id": "70aa87bb",
   "metadata": {},
   "outputs": [],
   "source": [
    "# Le CDM est identique pour tous les patients, on le supprime\n",
    "assert(len(df_person['cdm_source'].unique()) == 1)\n",
    "df_person_clean = df_person.drop(columns=['cdm_source'])\n",
    "\n",
    "# On supprime les patients sans date de naissance, ou avec une date de naissance trop ancienne (incoherent)\n",
    "df_person_clean = df_person_clean[df_person_clean['birth_datetime'] > '1920-01-01']\n",
    "\n",
    "# On adopte une unique convention pour le genre\n",
    "df_person_clean['gender_source_value'] = df_person_clean['gender_source_value'].replace({'f': 'female', 'm': 'male'})\n",
    "assert(len(df_person_clean.gender_source_value.unique()) == 2)\n",
    "\n",
    "# On supprime les hommes de l'étude\n",
    "df_person_clean = df_person_clean[df_person_clean['gender_source_value'] == 'female']\n",
    "assert(len(df_person_clean.gender_source_value.unique()) == 1)\n",
    "\n",
    "# On sauvegarde les données nettoyées dans un répertoire spécifique\n",
    "output_dir = '../data_clean'\n",
    "os.makedirs(output_dir, exist_ok=True)\n",
    "\n",
    "output_path = os.path.join(output_dir, 'df_person.pkl')\n",
    "df_person_clean.to_pickle(output_path)"
   ]
  },
  {
   "cell_type": "markdown",
   "id": "3803a18f",
   "metadata": {},
   "source": [
    "**df_bio**"
   ]
  },
  {
   "cell_type": "code",
   "execution_count": 83,
   "id": "94ff4561",
   "metadata": {},
   "outputs": [],
   "source": [
    "df_bio_clean = df_bio\n",
    "\n",
    "output_path = os.path.join(output_dir, 'df_bio.pkl')\n",
    "df_bio_clean.to_pickle(output_path)"
   ]
  },
  {
   "cell_type": "markdown",
   "id": "62384a4e",
   "metadata": {},
   "source": [
    "**df_visit**"
   ]
  },
  {
   "cell_type": "code",
   "execution_count": 84,
   "id": "56ffecd0",
   "metadata": {},
   "outputs": [],
   "source": [
    "df_visit_clean = df_visit[df_visit['person_id'].isin(df_person_clean['person_id'])]\n",
    "\n",
    "output_path = os.path.join(output_dir, 'df_visit.pkl')\n",
    "df_visit_clean.to_pickle(output_path)"
   ]
  },
  {
   "cell_type": "markdown",
   "id": "275edd75",
   "metadata": {},
   "source": [
    "**df_note**"
   ]
  },
  {
   "cell_type": "code",
   "execution_count": 85,
   "id": "e23b4b76",
   "metadata": {},
   "outputs": [],
   "source": [
    "df_note_clean = df_note.drop(columns=['cdm_source'])\n",
    "df_note_clean = df_note_clean[df_note_clean['visit_occurrence_id'].isin(df_visit_clean['visit_occurrence_id'])]\n",
    "\n",
    "output_path = os.path.join(output_dir, 'df_note.pkl')\n",
    "df_note_clean.to_pickle(output_path)\n"
   ]
  },
  {
   "cell_type": "code",
   "execution_count": 86,
   "id": "3323195c",
   "metadata": {},
   "outputs": [
    {
     "name": "stdout",
     "output_type": "stream",
     "text": [
      "<class 'pandas.core.frame.DataFrame'>\n",
      "RangeIndex: 2152 entries, 0 to 2151\n",
      "Data columns (total 4 columns):\n",
      " #   Column                   Non-Null Count  Dtype  \n",
      "---  ------                   --------------  -----  \n",
      " 0   visit_occurrence_id      2152 non-null   float64\n",
      " 1   person_id                2152 non-null   float64\n",
      " 2   condition_occurrence_id  2152 non-null   float64\n",
      " 3   condition_source_value   2152 non-null   object \n",
      "dtypes: float64(3), object(1)\n",
      "memory usage: 67.4+ KB\n"
     ]
    }
   ],
   "source": [
    "df_condition.info()"
   ]
  },
  {
   "cell_type": "code",
   "execution_count": 87,
   "id": "84698536",
   "metadata": {},
   "outputs": [],
   "source": [
    "df_condition_clean = df_condition[df_condition['person_id'].isin(df_person_clean['person_id'])]\n",
    "\n",
    "output_path = os.path.join(output_dir, 'df_condition.pkl')\n",
    "df_condition_clean.to_pickle(output_path)"
   ]
  },
  {
   "cell_type": "code",
   "execution_count": 88,
   "id": "35d8455b",
   "metadata": {},
   "outputs": [],
   "source": [
    "df_person_dedup_det = pd.merge(\n",
    "    df_person_clean,\n",
    "    df_dedup_deterministic,\n",
    "    on='person_id',\n",
    "    how='outer'\n",
    ")\n",
    "df_person_dedup_det['unique_person_id'] = df_person_dedup_det['unique_person_id'].fillna(df_person_dedup_det['person_id'])\n",
    "df_person_dedup_det = df_person_dedup_det.drop_duplicates(['unique_person_id'], keep='first')\n",
    "\n",
    "def deduplicate_proba(df_person, df_dedup_proba, score):\n",
    "    df_dedup_proba_score = df_dedup_proba[df_dedup_proba['prob'] > score]\n",
    "    df_person_dedup_proba = pd.merge(df_person, df_dedup_proba_score, on='person_id', how='outer')\n",
    "    df_person_dedup_proba['unique_person_id'] = df_person_dedup_proba['unique_person_id'].fillna(df_person_dedup_proba['person_id'])\n",
    "    df_person_dedup_proba = df_person_dedup_proba.drop_duplicates(['unique_person_id'], keep='first')\n",
    "    return df_person_dedup_proba\n",
    "\n",
    "df_person_dedup_proba_90 = deduplicate_proba(df_person_clean, df_dedup_proba, score=0.90)\n",
    "df_person_dedup_proba_20 = deduplicate_proba(df_person_clean, df_dedup_proba, score=0.20)"
   ]
  },
  {
   "cell_type": "code",
   "execution_count": 89,
   "id": "411fc1a7",
   "metadata": {},
   "outputs": [
    {
     "name": "stdout",
     "output_type": "stream",
     "text": [
      "Original patient data:\n",
      "Unique patients: 975\n",
      "\n",
      "Deterministic deduplication:\n",
      "Unique patients: 967\n",
      "\n",
      "Probabilistic deduplication (threshold 0.90):\n",
      "Unique patients: 959\n",
      "\n",
      "Probabilistic deduplication (threshold 0.20):\n",
      "Unique patients: 953\n"
     ]
    }
   ],
   "source": [
    "import os\n",
    "\n",
    "print(\"Original patient data:\")\n",
    "print(f\"Unique patients: {df_person_clean['person_id'].nunique()}\")\n",
    "\n",
    "print('\\nDeterministic deduplication:')\n",
    "print(f\"Unique patients: {df_person_dedup_det['unique_person_id'].nunique()}\")\n",
    "\n",
    "print('\\nProbabilistic deduplication (threshold 0.90):')\n",
    "print(f\"Unique patients: {df_person_dedup_proba_90['unique_person_id'].nunique()}\")\n",
    "\n",
    "print('\\nProbabilistic deduplication (threshold 0.20):')\n",
    "print(f\"Unique patients: {df_person_dedup_proba_20['unique_person_id'].nunique()}\")"
   ]
  },
  {
   "cell_type": "code",
   "execution_count": 101,
   "id": "53d7ab52",
   "metadata": {},
   "outputs": [
    {
     "name": "stdout",
     "output_type": "stream",
     "text": [
      "<class 'pandas.core.frame.DataFrame'>\n",
      "RangeIndex: 6188 entries, 0 to 6187\n",
      "Data columns (total 6 columns):\n",
      " #   Column                Non-Null Count  Dtype         \n",
      "---  ------                --------------  -----         \n",
      " 0   measurement_id        6188 non-null   float64       \n",
      " 1   visit_occurrence_id   6188 non-null   float64       \n",
      " 2   measurement_datetime  6188 non-null   datetime64[ns]\n",
      " 3   concept_source_value  6188 non-null   object        \n",
      " 4   transformed_value     6188 non-null   float64       \n",
      " 5   transformed_unit      6188 non-null   object        \n",
      "dtypes: datetime64[ns](1), float64(3), object(2)\n",
      "memory usage: 290.2+ KB\n",
      "<class 'pandas.core.frame.DataFrame'>\n",
      "Index: 959 entries, 0 to 993\n",
      "Data columns (total 6 columns):\n",
      " #   Column               Non-Null Count  Dtype         \n",
      "---  ------               --------------  -----         \n",
      " 0   birth_datetime       940 non-null    datetime64[ns]\n",
      " 1   death_datetime       549 non-null    datetime64[ns]\n",
      " 2   gender_source_value  940 non-null    object        \n",
      " 3   person_id            959 non-null    float64       \n",
      " 4   unique_person_id     959 non-null    float64       \n",
      " 5   prob                 37 non-null     float64       \n",
      "dtypes: datetime64[ns](2), float64(3), object(1)\n",
      "memory usage: 52.4+ KB\n"
     ]
    }
   ],
   "source": [
    "df_person_dedup_proba_90.to_pickle(os.path.join(output_dir, 'df_person.pkl'))\n",
    "\n",
    "df_person_dedup = df_person_dedup_proba_90\n",
    "\n",
    "df_bio_clean.info()\n",
    "df_person_dedup.info()"
   ]
  },
  {
   "cell_type": "code",
   "execution_count": null,
   "id": "480e9632",
   "metadata": {},
   "outputs": [],
   "source": [
    "def update_with_unique_id(df_visit, df_person_dedup):\n",
    "    df_updated = pd.merge(\n",
    "        df_visit,\n",
    "        df_person_dedup[['person_id', 'unique_person_id']],\n",
    "        on='person_id',\n",
    "        how='left'\n",
    "    )\n",
    "\n",
    "    df_updated['unique_person_id'] = df_updated['unique_person_id'].fillna(df_updated['person_id'])\n",
    "    return df_updated\n",
    "\n",
    "df_visit_dedup = update_with_unique_id(df_visit_clean, df_person_dedup)\n",
    "df_condition_dedup = update_with_unique_id(df_condition_clean, df_person_dedup)\n"
   ]
  },
  {
   "cell_type": "code",
   "execution_count": null,
   "id": "5d01721b",
   "metadata": {},
   "outputs": [],
   "source": [
    "def finalize_person_id(df):\n",
    "    df = df.drop(columns=['person_id'], errors='ignore')\n",
    "    df = df.rename(columns={'unique_person_id': 'person_id'})\n",
    "    return df\n",
    "\n",
    "df_person_final = finalize_person_id(df_person_dedup)\n",
    "df_visit_final = finalize_person_id(df_visit_dedup)\n",
    "df_condition_final = finalize_person_id(df_condition_dedup)\n",
    "\n",
    "df_person_final.to_pickle(os.path.join(output_dir, 'df_person.pkl'))\n",
    "df_visit_final.to_pickle(os.path.join(output_dir, 'df_visit.pkl'))\n",
    "df_condition_final.to_pickle(os.path.join(output_dir, 'df_condition.pkl'))"
   ]
  }
 ],
 "metadata": {
  "kernelspec": {
   "display_name": "3.11.11",
   "language": "python",
   "name": "python3"
  },
  "language_info": {
   "codemirror_mode": {
    "name": "ipython",
    "version": 3
   },
   "file_extension": ".py",
   "mimetype": "text/x-python",
   "name": "python",
   "nbconvert_exporter": "python",
   "pygments_lexer": "ipython3",
   "version": "3.11.11"
  }
 },
 "nbformat": 4,
 "nbformat_minor": 5
}
