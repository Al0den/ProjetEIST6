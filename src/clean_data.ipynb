{
 "cells": [
  {
   "cell_type": "code",
   "execution_count": 23,
   "id": "6ecbd92c",
   "metadata": {},
   "outputs": [],
   "source": [
    "import pandas as pd\n",
    "import os"
   ]
  },
  {
   "cell_type": "code",
   "execution_count": null,
   "id": "a6fae376",
   "metadata": {},
   "outputs": [],
   "source": [
    "df_bio = pd.read_pickle('../data_raw/df_bio.pkl')\n",
    "df_condition = pd.read_pickle('../data_raw/df_condition.pkl')\n",
    "df_dedup_deterministic = pd.read_pickle('../data_raw/df_dedup_deterministic.pkl')\n",
    "df_dedup_proba = pd.read_pickle('../data_raw/df_dedup_proba.pkl')\n",
    "df_note = pd.read_pickle('../data_raw/df_note.pkl')\n",
    "df_person = pd.read_pickle('../data_raw/df_person.pkl')\n",
    "df_visit = pd.read_pickle('../data_raw/df_visit.pkl')"
   ]
  },
  {
   "cell_type": "markdown",
   "id": "f6e1ae3c",
   "metadata": {},
   "source": [
    "**df_person**"
   ]
  },
  {
   "cell_type": "code",
   "execution_count": null,
   "id": "70aa87bb",
   "metadata": {},
   "outputs": [],
   "source": [
    "# Le CDM est identique pour tous les patients, on le supprime\n",
    "assert(len(df_person['cdm_source'].unique()) == 1)\n",
    "df_person_clean = df_person.drop(columns=['cdm_source'])\n",
    "\n",
    "# On supprime les patients sans date de naissance, ou avec une date de naissance trop ancienne (incoherent)\n",
    "df_person_clean = df_person_clean[df_person_clean['birth_datetime'] > '1920-01-01']\n",
    "\n",
    "# On adopte une unique convention pour le genre\n",
    "df_person_clean['gender_source_value'] = df_person_clean['gender_source_value'].replace({'f': 'female', 'm': 'male'})\n",
    "assert(len(df_person_clean.gender_source_value.unique()) == 2)\n",
    "\n",
    "# On supprime les hommes de l'étude\n",
    "df_person_clean = df_person_clean[df_person_clean['gender_source_value'] == 'female']\n",
    "assert(len(df_person_clean.gender_source_value.unique()) == 1)\n",
    "\n",
    "# On sauvegarde les données nettoyées dans un répertoire spécifique\n",
    "output_dir = '../data_clean'\n",
    "os.makedirs(output_dir, exist_ok=True)\n",
    "\n",
    "output_path = os.path.join(output_dir, 'df_person.pkl')\n",
    "df_person_clean.to_pickle(output_path)"
   ]
  },
  {
   "cell_type": "markdown",
   "id": "3803a18f",
   "metadata": {},
   "source": [
    "**df_bio**"
   ]
  },
  {
   "cell_type": "code",
   "execution_count": 56,
   "id": "94ff4561",
   "metadata": {},
   "outputs": [],
   "source": [
    "df_bio_clean = df_bio\n",
    "\n",
    "output_path = os.path.join(output_dir, 'df_bio.pkl')\n",
    "df_bio_clean.to_pickle(output_path)"
   ]
  },
  {
   "cell_type": "markdown",
   "id": "62384a4e",
   "metadata": {},
   "source": [
    "**df_visit**"
   ]
  },
  {
   "cell_type": "code",
   "execution_count": 55,
   "id": "56ffecd0",
   "metadata": {},
   "outputs": [],
   "source": [
    "df_visit_clean = df_visit[df_visit['person_id'].isin(df_person_clean['person_id'])]\n",
    "\n",
    "output_path = os.path.join(output_dir, 'df_visit.pkl')\n",
    "df_visit_clean.to_pickle(output_path)"
   ]
  },
  {
   "cell_type": "markdown",
   "id": "275edd75",
   "metadata": {},
   "source": [
    "**df_note**"
   ]
  },
  {
   "cell_type": "code",
   "execution_count": 65,
   "id": "e23b4b76",
   "metadata": {},
   "outputs": [],
   "source": [
    "df_note_clean = df_note.drop(columns=['cdm_source'])\n",
    "df_note_clean = df_note_clean[df_note_clean['visit_occurrence_id'].isin(df_visit_clean['visit_occurrence_id'])]\n",
    "\n",
    "output_path = os.path.join(output_dir, 'df_note.pkl')\n",
    "df_note_clean.to_pickle(output_path)\n"
   ]
  },
  {
   "cell_type": "code",
   "execution_count": 66,
   "id": "3323195c",
   "metadata": {},
   "outputs": [
    {
     "name": "stdout",
     "output_type": "stream",
     "text": [
      "<class 'pandas.core.frame.DataFrame'>\n",
      "RangeIndex: 2152 entries, 0 to 2151\n",
      "Data columns (total 4 columns):\n",
      " #   Column                   Non-Null Count  Dtype  \n",
      "---  ------                   --------------  -----  \n",
      " 0   visit_occurrence_id      2152 non-null   float64\n",
      " 1   person_id                2152 non-null   float64\n",
      " 2   condition_occurrence_id  2152 non-null   float64\n",
      " 3   condition_source_value   2152 non-null   object \n",
      "dtypes: float64(3), object(1)\n",
      "memory usage: 67.4+ KB\n"
     ]
    }
   ],
   "source": [
    "df_condition.info()"
   ]
  },
  {
   "cell_type": "code",
   "execution_count": null,
   "id": "84698536",
   "metadata": {},
   "outputs": [
    {
     "data": {
      "text/html": [
       "<div>\n",
       "<style scoped>\n",
       "    .dataframe tbody tr th:only-of-type {\n",
       "        vertical-align: middle;\n",
       "    }\n",
       "\n",
       "    .dataframe tbody tr th {\n",
       "        vertical-align: top;\n",
       "    }\n",
       "\n",
       "    .dataframe thead th {\n",
       "        text-align: right;\n",
       "    }\n",
       "</style>\n",
       "<table border=\"1\" class=\"dataframe\">\n",
       "  <thead>\n",
       "    <tr style=\"text-align: right;\">\n",
       "      <th></th>\n",
       "      <th>visit_occurrence_id</th>\n",
       "      <th>person_id</th>\n",
       "      <th>condition_occurrence_id</th>\n",
       "      <th>condition_source_value</th>\n",
       "    </tr>\n",
       "  </thead>\n",
       "  <tbody>\n",
       "    <tr>\n",
       "      <th>0</th>\n",
       "      <td>85319808.0</td>\n",
       "      <td>84829170.0</td>\n",
       "      <td>87142885.0</td>\n",
       "      <td>T51</td>\n",
       "    </tr>\n",
       "    <tr>\n",
       "      <th>1</th>\n",
       "      <td>80902406.0</td>\n",
       "      <td>85929376.0</td>\n",
       "      <td>89378651.0</td>\n",
       "      <td>Z720</td>\n",
       "    </tr>\n",
       "    <tr>\n",
       "      <th>2</th>\n",
       "      <td>84295593.0</td>\n",
       "      <td>86868894.0</td>\n",
       "      <td>85796828.0</td>\n",
       "      <td>C504</td>\n",
       "    </tr>\n",
       "    <tr>\n",
       "      <th>3</th>\n",
       "      <td>84975826.0</td>\n",
       "      <td>85566948.0</td>\n",
       "      <td>81895083.0</td>\n",
       "      <td>F023</td>\n",
       "    </tr>\n",
       "    <tr>\n",
       "      <th>4</th>\n",
       "      <td>83844409.0</td>\n",
       "      <td>89203324.0</td>\n",
       "      <td>87313829.0</td>\n",
       "      <td>Z803</td>\n",
       "    </tr>\n",
       "  </tbody>\n",
       "</table>\n",
       "</div>"
      ],
      "text/plain": [
       "   visit_occurrence_id   person_id  condition_occurrence_id  \\\n",
       "0           85319808.0  84829170.0               87142885.0   \n",
       "1           80902406.0  85929376.0               89378651.0   \n",
       "2           84295593.0  86868894.0               85796828.0   \n",
       "3           84975826.0  85566948.0               81895083.0   \n",
       "4           83844409.0  89203324.0               87313829.0   \n",
       "\n",
       "  condition_source_value  \n",
       "0                    T51  \n",
       "1                   Z720  \n",
       "2                   C504  \n",
       "3                   F023  \n",
       "4                   Z803  "
      ]
     },
     "execution_count": 68,
     "metadata": {},
     "output_type": "execute_result"
    }
   ],
   "source": [
    "df_condition_clean = df_condition[df_condition['person_id'].isin(df_person_clean['person_id'])]\n",
    "\n",
    "output_path = os.path.join(output_dir, 'df_condition.pkl')\n",
    "df_condition_clean.to_pickle(output_path)"
   ]
  }
 ],
 "metadata": {
  "kernelspec": {
   "display_name": "3.11.11",
   "language": "python",
   "name": "python3"
  },
  "language_info": {
   "codemirror_mode": {
    "name": "ipython",
    "version": 3
   },
   "file_extension": ".py",
   "mimetype": "text/x-python",
   "name": "python",
   "nbconvert_exporter": "python",
   "pygments_lexer": "ipython3",
   "version": "3.11.11"
  }
 },
 "nbformat": 4,
 "nbformat_minor": 5
}
