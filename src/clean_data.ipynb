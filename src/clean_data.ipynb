{
 "cells": [
  {
   "cell_type": "code",
   "execution_count": 1,
   "id": "6ecbd92c",
   "metadata": {},
   "outputs": [],
   "source": [
    "import pandas as pd"
   ]
  },
  {
   "cell_type": "code",
   "execution_count": null,
   "id": "a6fae376",
   "metadata": {},
   "outputs": [],
   "source": [
    "df_bio = pd.read_pickle('../data_raw/df_bio.pkl')\n",
    "df_condition = pd.read_pickle('../data_raw/df_condition.pkl')\n",
    "df_dedup_deterministic = pd.read_pickle('../data_raw/df_dedup_deterministic.pkl')\n",
    "df_dedup_proba = pd.read_pickle('../data_raw/df_dedup_proba.pkl')\n",
    "df_note = pd.read_pickle('../data_raw/df_note.pkl')\n",
    "df_person = pd.read_pickle('../data_raw/df_person.pkl')\n",
    "df_visit = pd.read_pickle('../data_raw/df_visit.pkl')\n",
    "\n",
    "df_bio_clean_path = '../data_clean/df_bio_clean.pkl'\n",
    "df_condition_clean_path = '../data_clean/df_condition_clean.pkl'\n",
    "df_dedup_deterministic_clean_path = '../data_clean/df_dedup_deterministic_clean.pkl'\n",
    "df_dedup_proba_clean_path = '../data_clean/df_dedup_proba_clean.pkl'\n",
    "df_note_clean_path = '../data_clean/df_note_clean.pkl'\n",
    "df_person_clean_path = '../data_clean/df_person_clean.pkl'\n",
    "df_visit_clean_path = '../data_clean/df_visit_clean.pkl'"
   ]
  },
  {
   "cell_type": "code",
   "execution_count": null,
   "id": "94ff4561",
   "metadata": {},
   "outputs": [],
   "source": []
  }
 ],
 "metadata": {
  "kernelspec": {
   "display_name": "3.11.11",
   "language": "python",
   "name": "python3"
  },
  "language_info": {
   "codemirror_mode": {
    "name": "ipython",
    "version": 3
   },
   "file_extension": ".py",
   "mimetype": "text/x-python",
   "name": "python",
   "nbconvert_exporter": "python",
   "pygments_lexer": "ipython3",
   "version": "3.11.11"
  }
 },
 "nbformat": 4,
 "nbformat_minor": 5
}
