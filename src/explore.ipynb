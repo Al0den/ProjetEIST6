{
 "cells": [
  {
   "cell_type": "code",
   "execution_count": null,
   "id": "a131010e",
   "metadata": {},
   "outputs": [],
   "source": []
  },
  {
   "cell_type": "code",
   "execution_count": 33,
   "id": "6d77776a",
   "metadata": {},
   "outputs": [],
   "source": [
    "import pandas as pd"
   ]
  },
  {
   "cell_type": "code",
   "execution_count": 35,
   "id": "4f96ee82",
   "metadata": {},
   "outputs": [],
   "source": [
    "df_bio = pd.read_pickle('../data_raw/df_bio.pkl')\n",
    "df_condition = pd.read_pickle('../data_raw/df_condition.pkl')\n",
    "df_dedup_deterministic = pd.read_pickle('../data_raw/df_dedup_deterministic.pkl')\n",
    "df_dedup_proba = pd.read_pickle('../data_raw/df_dedup_proba.pkl')\n",
    "df_note = pd.read_pickle('../data_raw/df_note.pkl')\n",
    "df_person = pd.read_pickle('../data_raw/df_person.pkl')\n",
    "df_visit = pd.read_pickle('../data_raw/df_visit.pkl')\n"
   ]
  },
  {
   "cell_type": "code",
   "execution_count": 38,
   "id": "6a7cdacb",
   "metadata": {},
   "outputs": [
    {
     "data": {
      "text/plain": [
       "array([np.str_('EHR 1')], dtype=object)"
      ]
     },
     "execution_count": 38,
     "metadata": {},
     "output_type": "execute_result"
    }
   ],
   "source": [
    "df_person.cdm_source.unique()"
   ]
  },
  {
   "cell_type": "code",
   "execution_count": null,
   "id": "8e2081db",
   "metadata": {},
   "outputs": [
    {
     "name": "stdout",
     "output_type": "stream",
     "text": [
      "<class 'pandas.core.frame.DataFrame'>\n",
      "RangeIndex: 2152 entries, 0 to 2151\n",
      "Data columns (total 4 columns):\n",
      " #   Column                   Non-Null Count  Dtype  \n",
      "---  ------                   --------------  -----  \n",
      " 0   visit_occurrence_id      2152 non-null   float64\n",
      " 1   person_id                2152 non-null   float64\n",
      " 2   condition_occurrence_id  2152 non-null   float64\n",
      " 3   condition_source_value   2152 non-null   object \n",
      "dtypes: float64(3), object(1)\n",
      "memory usage: 67.4+ KB\n",
      "1547\n"
     ]
    },
    {
     "data": {
      "text/html": [
       "<div>\n",
       "<style scoped>\n",
       "    .dataframe tbody tr th:only-of-type {\n",
       "        vertical-align: middle;\n",
       "    }\n",
       "\n",
       "    .dataframe tbody tr th {\n",
       "        vertical-align: top;\n",
       "    }\n",
       "\n",
       "    .dataframe thead th {\n",
       "        text-align: right;\n",
       "    }\n",
       "</style>\n",
       "<table border=\"1\" class=\"dataframe\">\n",
       "  <thead>\n",
       "    <tr style=\"text-align: right;\">\n",
       "      <th></th>\n",
       "      <th>visit_occurrence_id</th>\n",
       "      <th>person_id</th>\n",
       "      <th>condition_occurrence_id</th>\n",
       "      <th>condition_source_value</th>\n",
       "    </tr>\n",
       "  </thead>\n",
       "  <tbody>\n",
       "    <tr>\n",
       "      <th>0</th>\n",
       "      <td>85319808.0</td>\n",
       "      <td>84829170.0</td>\n",
       "      <td>87142885.0</td>\n",
       "      <td>T51</td>\n",
       "    </tr>\n",
       "    <tr>\n",
       "      <th>1</th>\n",
       "      <td>80902406.0</td>\n",
       "      <td>85929376.0</td>\n",
       "      <td>89378651.0</td>\n",
       "      <td>Z720</td>\n",
       "    </tr>\n",
       "    <tr>\n",
       "      <th>2</th>\n",
       "      <td>84295593.0</td>\n",
       "      <td>86868894.0</td>\n",
       "      <td>85796828.0</td>\n",
       "      <td>C504</td>\n",
       "    </tr>\n",
       "    <tr>\n",
       "      <th>3</th>\n",
       "      <td>84975826.0</td>\n",
       "      <td>85566948.0</td>\n",
       "      <td>81895083.0</td>\n",
       "      <td>F023</td>\n",
       "    </tr>\n",
       "    <tr>\n",
       "      <th>4</th>\n",
       "      <td>83844409.0</td>\n",
       "      <td>89203324.0</td>\n",
       "      <td>87313829.0</td>\n",
       "      <td>Z803</td>\n",
       "    </tr>\n",
       "  </tbody>\n",
       "</table>\n",
       "</div>"
      ],
      "text/plain": [
       "   visit_occurrence_id   person_id  condition_occurrence_id  \\\n",
       "0           85319808.0  84829170.0               87142885.0   \n",
       "1           80902406.0  85929376.0               89378651.0   \n",
       "2           84295593.0  86868894.0               85796828.0   \n",
       "3           84975826.0  85566948.0               81895083.0   \n",
       "4           83844409.0  89203324.0               87313829.0   \n",
       "\n",
       "  condition_source_value  \n",
       "0                    T51  \n",
       "1                   Z720  \n",
       "2                   C504  \n",
       "3                   F023  \n",
       "4                   Z803  "
      ]
     },
     "execution_count": 23,
     "metadata": {},
     "output_type": "execute_result"
    }
   ],
   "source": [
    "df_condition.info()\n",
    "print(len(df_condition.person_id.unique()))\n",
    "\n",
    "df_condition.head()"
   ]
  },
  {
   "cell_type": "code",
   "execution_count": null,
   "id": "7d62777f",
   "metadata": {},
   "outputs": [
    {
     "name": "stdout",
     "output_type": "stream",
     "text": [
      "1547\n",
      "<class 'pandas.core.frame.DataFrame'>\n",
      "RangeIndex: 1547 entries, 0 to 1546\n",
      "Data columns (total 5 columns):\n",
      " #   Column               Non-Null Count  Dtype         \n",
      "---  ------               --------------  -----         \n",
      " 0   birth_datetime       1547 non-null   datetime64[ns]\n",
      " 1   death_datetime       830 non-null    datetime64[ns]\n",
      " 2   gender_source_value  1547 non-null   object        \n",
      " 3   cdm_source           1547 non-null   object        \n",
      " 4   person_id            1547 non-null   float64       \n",
      "dtypes: datetime64[ns](2), float64(1), object(2)\n",
      "memory usage: 60.6+ KB\n"
     ]
    }
   ],
   "source": [
    "print(len(df_person.person_id.unique()))\n",
    "df_person.info()"
   ]
  },
  {
   "cell_type": "code",
   "execution_count": null,
   "id": "02e9ebb8",
   "metadata": {},
   "outputs": [
    {
     "name": "stdout",
     "output_type": "stream",
     "text": [
      "<class 'pandas.core.frame.DataFrame'>\n",
      "RangeIndex: 1547 entries, 0 to 1546\n",
      "Data columns (total 6 columns):\n",
      " #   Column                Non-Null Count  Dtype         \n",
      "---  ------                --------------  -----         \n",
      " 0   visit_occurrence_id   1547 non-null   float64       \n",
      " 1   care_site_id          1547 non-null   object        \n",
      " 2   visit_start_datetime  1547 non-null   datetime64[ns]\n",
      " 3   visit_end_datetime    1546 non-null   datetime64[ns]\n",
      " 4   visit_source_value    1547 non-null   object        \n",
      " 5   person_id             1547 non-null   float64       \n",
      "dtypes: datetime64[ns](2), float64(2), object(2)\n",
      "memory usage: 72.6+ KB\n"
     ]
    }
   ],
   "source": [
    "df_visit.info()"
   ]
  },
  {
   "cell_type": "code",
   "execution_count": null,
   "id": "1fb8004f",
   "metadata": {},
   "outputs": [
    {
     "name": "stdout",
     "output_type": "stream",
     "text": [
      "<class 'pandas.core.frame.DataFrame'>\n",
      "RangeIndex: 1547 entries, 0 to 1546\n",
      "Data columns (total 5 columns):\n",
      " #   Column               Non-Null Count  Dtype         \n",
      "---  ------               --------------  -----         \n",
      " 0   visit_occurrence_id  1547 non-null   float64       \n",
      " 1   note_datetime        1547 non-null   datetime64[ns]\n",
      " 2   note_id              1547 non-null   float64       \n",
      " 3   cdm_source           1547 non-null   object        \n",
      " 4   note_text            1547 non-null   object        \n",
      "dtypes: datetime64[ns](1), float64(2), object(2)\n",
      "memory usage: 60.6+ KB\n"
     ]
    }
   ],
   "source": [
    "df_note.info()"
   ]
  },
  {
   "cell_type": "code",
   "execution_count": null,
   "id": "11a4084b",
   "metadata": {},
   "outputs": [
    {
     "name": "stdout",
     "output_type": "stream",
     "text": [
      "<class 'pandas.core.frame.DataFrame'>\n",
      "RangeIndex: 6188 entries, 0 to 6187\n",
      "Data columns (total 6 columns):\n",
      " #   Column                Non-Null Count  Dtype         \n",
      "---  ------                --------------  -----         \n",
      " 0   measurement_id        6188 non-null   float64       \n",
      " 1   visit_occurrence_id   6188 non-null   float64       \n",
      " 2   measurement_datetime  6188 non-null   datetime64[ns]\n",
      " 3   concept_source_value  6188 non-null   object        \n",
      " 4   transformed_value     6188 non-null   float64       \n",
      " 5   transformed_unit      6188 non-null   object        \n",
      "dtypes: datetime64[ns](1), float64(3), object(2)\n",
      "memory usage: 290.2+ KB\n"
     ]
    }
   ],
   "source": [
    "df_bio.info()"
   ]
  },
  {
   "cell_type": "code",
   "execution_count": null,
   "id": "bd813491",
   "metadata": {},
   "outputs": [],
   "source": []
  }
 ],
 "metadata": {
  "kernelspec": {
   "display_name": "3.11.11",
   "language": "python",
   "name": "python3"
  },
  "language_info": {
   "codemirror_mode": {
    "name": "ipython",
    "version": 3
   },
   "file_extension": ".py",
   "mimetype": "text/x-python",
   "name": "python",
   "nbconvert_exporter": "python",
   "pygments_lexer": "ipython3",
   "version": "3.11.11"
  }
 },
 "nbformat": 4,
 "nbformat_minor": 5
}
