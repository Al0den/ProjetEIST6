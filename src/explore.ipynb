{
 "cells": [
  {
   "cell_type": "code",
   "execution_count": null,
   "id": "a131010e",
   "metadata": {},
   "outputs": [],
   "source": []
  },
  {
   "cell_type": "code",
   "execution_count": 21,
   "id": "6d77776a",
   "metadata": {},
   "outputs": [],
   "source": [
    "import pandas as pd"
   ]
  },
  {
   "cell_type": "code",
   "execution_count": 32,
   "id": "4f96ee82",
   "metadata": {},
   "outputs": [],
   "source": [
    "df_bio = pd.read_pickle('../data_clean/df_bio.pkl')\n",
    "df_condition = pd.read_pickle('../data_clean/df_condition.pkl')\n",
    "df_note = pd.read_pickle('../data_clean/df_note.pkl')\n",
    "df_person = pd.read_pickle('../data_clean/df_person.pkl')\n",
    "df_visit = pd.read_pickle('../data_clean/df_visit.pkl')\n",
    "df_facteur_risque = pd.read_pickle('../data_clean/df_facteur_risque.pkl')"
   ]
  },
  {
   "cell_type": "code",
   "execution_count": null,
   "id": "2a7af855",
   "metadata": {},
   "outputs": [],
   "source": []
  }
 ],
 "metadata": {
  "kernelspec": {
   "display_name": "3.11.11",
   "language": "python",
   "name": "python3"
  },
  "language_info": {
   "codemirror_mode": {
    "name": "ipython",
    "version": 3
   },
   "file_extension": ".py",
   "mimetype": "text/x-python",
   "name": "python",
   "nbconvert_exporter": "python",
   "pygments_lexer": "ipython3",
   "version": "3.11.11"
  }
 },
 "nbformat": 4,
 "nbformat_minor": 5
}
