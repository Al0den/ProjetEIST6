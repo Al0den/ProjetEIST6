{
 "cells": [
  {
   "cell_type": "code",
   "execution_count": 1,
   "id": "9636e812",
   "metadata": {},
   "outputs": [],
   "source": [
    "import pandas as pd\n",
    "import os\n",
    "from datetime import datetime"
   ]
  },
  {
   "cell_type": "code",
   "execution_count": 2,
   "id": "1c83e4d0",
   "metadata": {},
   "outputs": [],
   "source": [
    "df_bio = pd.read_pickle('../data_raw/df_bio.pkl')\n",
    "df_condition = pd.read_pickle('../data_raw/df_condition.pkl')\n",
    "df_dedup_deterministic = pd.read_pickle('../data_raw/df_dedup_deterministic.pkl')\n",
    "df_dedup_proba = pd.read_pickle('../data_raw/df_dedup_proba.pkl')\n",
    "df_note = pd.read_pickle('../data_raw/df_note.pkl')\n",
    "df_person = pd.read_pickle('../data_raw/df_person.pkl')\n",
    "df_visit = pd.read_pickle('../data_raw/df_visit.pkl')\n",
    "\n",
    "input_dir = \"../data_raw/\""
   ]
  },
  {
   "cell_type": "code",
   "execution_count": 6,
   "id": "79a5acb0",
   "metadata": {},
   "outputs": [
    {
     "name": "stdout",
     "output_type": "stream",
     "text": [
      "[np.str_('T51') np.str_('Z720') np.str_('C504') np.str_('F023')\n",
      " np.str_('Z803') np.str_('C503') np.str_('E12') np.str_('C19')\n",
      " np.str_('C501') np.str_('G20') np.str_('C502') np.str_('I13')\n",
      " np.str_('C50') np.str_('C34') np.str_('C500') np.str_('Z587')\n",
      " np.str_('Z864') np.str_('I12') np.str_('I15') np.str_('E10')\n",
      " np.str_('Z716') np.str_('E11') np.str_('F10') np.str_('K70')]\n",
      "condition_source_value\n",
      "F023    276\n",
      "G20     264\n",
      "C19     253\n",
      "C34     249\n",
      "Z803    129\n",
      "C500     96\n",
      "I13      94\n",
      "C50      93\n",
      "I12      87\n",
      "C502     86\n",
      "C503     83\n",
      "C504     74\n",
      "C501     73\n",
      "Z587     69\n",
      "T51      41\n",
      "Z720     39\n",
      "K70      32\n",
      "Z864     31\n",
      "F10      28\n",
      "E11      16\n",
      "Z716     12\n",
      "E12      11\n",
      "E10       8\n",
      "I15       8\n",
      "Name: count, dtype: int64\n"
     ]
    }
   ],
   "source": [
    "print(df_condition.condition_source_value.unique())\n",
    "print(df_condition.condition_source_value.value_counts())\n"
   ]
  }
 ],
 "metadata": {
  "kernelspec": {
   "display_name": ".venv",
   "language": "python",
   "name": "python3"
  },
  "language_info": {
   "codemirror_mode": {
    "name": "ipython",
    "version": 3
   },
   "file_extension": ".py",
   "mimetype": "text/x-python",
   "name": "python",
   "nbconvert_exporter": "python",
   "pygments_lexer": "ipython3",
   "version": "3.11.9"
  }
 },
 "nbformat": 4,
 "nbformat_minor": 5
}
