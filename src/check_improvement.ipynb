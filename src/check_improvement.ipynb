{
 "cells": [
  {
   "cell_type": "markdown",
   "id": "a3e5cc85",
   "metadata": {},
   "source": [
    "# Évaluation de l'amélioration des données\n",
    "\n",
    "Dans ce fichier, on cherche a évaluer les compétences du NLP, dans l'objectif de calculer sa précision et son rappel. Ceux-ci sont calculé dans `statistics.ipynb`"
   ]
  },
  {
   "cell_type": "markdown",
   "id": "10708458",
   "metadata": {},
   "source": [
    "**Librairies et données**"
   ]
  },
  {
   "cell_type": "code",
   "execution_count": 16,
   "id": "317d3a8e",
   "metadata": {},
   "outputs": [],
   "source": [
    "import pandas as pd\n",
    "import os\n",
    "import random\n",
    "\n",
    "import matplotlib.pyplot as plt\n",
    "import numpy as np\n",
    "import edsnlp, edsnlp.pipes as eds\n",
    "\n",
    "from spacy import displacy\n",
    "from datetime import datetime\n",
    "from IPython.display import clear_output\n",
    "\n",
    "input_dir = \"../data_clean/\"\n",
    "visuals_dir = \"../visuals/\" "
   ]
  },
  {
   "cell_type": "code",
   "execution_count": 17,
   "id": "adee6bbf",
   "metadata": {},
   "outputs": [],
   "source": [
    "assert os.path.exists(input_dir), f\"Il faut exéctuer le script de récolte et nettoyage (clean_data.ipynb) avant de lancer ce notebook ({input_dir} n'existe pas).\"\n",
    "\n",
    "try:\n",
    "    df_person = pd.read_pickle(os.path.join(input_dir, 'df_person.pkl'))\n",
    "    df_bio = pd.read_pickle(os.path.join(input_dir, 'df_bio.pkl'))\n",
    "    df_note = pd.read_pickle(os.path.join(input_dir, 'df_note.pkl'))\n",
    "    df_visit = pd.read_pickle(os.path.join(input_dir, 'df_visit.pkl'))\n",
    "    df_condition = pd.read_pickle(os.path.join(input_dir, 'df_condition.pkl'))\n",
    "    df_facteur_risque = pd.read_pickle(os.path.join(input_dir, 'df_facteur_risque.pkl'))\n",
    "except FileNotFoundError as e:\n",
    "    raise FileNotFoundError(f\"Il faut exéctuer le script de récolte et nettoyage (clean_data.ipynb) avant de lancer ce notebook ({e.filename} n'existe pas).\")"
   ]
  },
  {
   "cell_type": "markdown",
   "id": "eddb7f9e",
   "metadata": {},
   "source": [
    "**Évaluation du NLP pour les fumeurs**"
   ]
  },
  {
   "cell_type": "code",
   "execution_count": 18,
   "id": "0bd5304c",
   "metadata": {},
   "outputs": [
    {
     "ename": "ValueError",
     "evalue": "La colonne 'fumeur' n'existe pas dans df_facteur_risque. Assurez-vous que le script de improve_data.ipynb a été exécuté correctement.",
     "output_type": "error",
     "traceback": [
      "\u001b[0;31m---------------------------------------------------------------------------\u001b[0m",
      "\u001b[0;31mValueError\u001b[0m                                Traceback (most recent call last)",
      "Cell \u001b[0;32mIn[18], line 11\u001b[0m\n\u001b[1;32m      8\u001b[0m random\u001b[38;5;241m.\u001b[39mshuffle(echantillons)\n\u001b[1;32m     10\u001b[0m \u001b[38;5;28;01mif\u001b[39;00m \u001b[38;5;124m'\u001b[39m\u001b[38;5;124mfumeur\u001b[39m\u001b[38;5;124m'\u001b[39m \u001b[38;5;129;01mnot\u001b[39;00m \u001b[38;5;129;01min\u001b[39;00m df_facteur_risque\u001b[38;5;241m.\u001b[39mcolumns:\n\u001b[0;32m---> 11\u001b[0m     \u001b[38;5;28;01mraise\u001b[39;00m \u001b[38;5;167;01mValueError\u001b[39;00m(\u001b[38;5;124m\"\u001b[39m\u001b[38;5;124mLa colonne \u001b[39m\u001b[38;5;124m'\u001b[39m\u001b[38;5;124mfumeur\u001b[39m\u001b[38;5;124m'\u001b[39m\u001b[38;5;124m n\u001b[39m\u001b[38;5;124m'\u001b[39m\u001b[38;5;124mexiste pas dans df_facteur_risque. Assurez-vous que le script de improve_data.ipynb a été exécuté correctement.\u001b[39m\u001b[38;5;124m\"\u001b[39m)\n\u001b[1;32m     13\u001b[0m \u001b[38;5;28;01mfor\u001b[39;00m i \u001b[38;5;129;01min\u001b[39;00m echantillons:\n\u001b[1;32m     14\u001b[0m     person_id \u001b[38;5;241m=\u001b[39m df_person\u001b[38;5;241m.\u001b[39miloc[i][\u001b[38;5;124m'\u001b[39m\u001b[38;5;124mperson_id\u001b[39m\u001b[38;5;124m'\u001b[39m]\n",
      "\u001b[0;31mValueError\u001b[0m: La colonne 'fumeur' n'existe pas dans df_facteur_risque. Assurez-vous que le script de improve_data.ipynb a été exécuté correctement."
     ]
    }
   ],
   "source": [
    "total = 0\n",
    "\n",
    "faux_positif, faux_negatif = 0, 0\n",
    "fumeurs, non_fumeurs = 0, 0\n",
    "true_positif, true_negatif = 0, 0\n",
    "\n",
    "echantillons = list(range(len(df_person)))\n",
    "random.shuffle(echantillons)\n",
    "\n",
    "if 'fumeur' not in df_facteur_risque.columns:\n",
    "    raise ValueError(\"La colonne 'fumeur' n'existe pas dans df_facteur_risque. Assurez-vous que le script de improve_data.ipynb a été exécuté correctement.\")\n",
    "\n",
    "for i in echantillons:\n",
    "    person_id = df_person.iloc[i]['person_id']\n",
    "\n",
    "    visit = df_visit[df_visit['person_id'] == person_id].iloc[0]\n",
    "    note = df_note[df_note['visit_occurrence_id'] == visit['visit_occurrence_id']].iloc[0]\n",
    "\n",
    "    print(note['note_text'])\n",
    "\n",
    "    res = input(\"Le patient est-il un fumeur? (y/n): \")\n",
    "    total += 1\n",
    "\n",
    "    fumeur = df_facteur_risque.loc[df_facteur_risque['person_id'] == person_id]['fumeur'].values\n",
    "\n",
    "    if res == 'y':\n",
    "        if fumeur: true_positif += 1\n",
    "        else: faux_negatif += 1\n",
    "    elif res == 'n':\n",
    "        if fumeur: faux_positif += 1\n",
    "        else: true_negatif += 1\n",
    "    else:\n",
    "        total -= 1\n",
    "\n",
    "    clear_output(wait=True)\n",
    "\n",
    "    print(f\"Total: {total}, Faux Positifs: {faux_positif}, Faux Négatifs: {faux_negatif}, True Positifs: {true_positif}, True Négatifs: {true_negatif}\")\n",
    "    \n",
    "    if res == 'exit':\n",
    "        break\n",
    "\n",
    "with open(os.path.join(input_dir, 'fumeur_results.txt'), 'w') as f:\n",
    "    f.write(f\"Total: {total}\\n\")\n",
    "    f.write(f\"Faux Positifs: {faux_positif}\\n\")\n",
    "    f.write(f\"Faux Négatifs: {faux_negatif}\\n\")\n",
    "    f.write(f\"True Positifs: {true_positif}\\n\")\n",
    "    f.write(f\"True Négatifs: {true_negatif}\\n\")"
   ]
  },
  {
   "cell_type": "markdown",
   "id": "66dfb218",
   "metadata": {},
   "source": [
    "**Évaluation du NLP pour les consommateurs d'alcool**"
   ]
  },
  {
   "cell_type": "code",
   "execution_count": null,
   "id": "91f47ac7",
   "metadata": {},
   "outputs": [
    {
     "name": "stdout",
     "output_type": "stream",
     "text": [
      "Total : 26, Faux positifs (alcool) : 26, Faux négatifs (alcool) : 0, Buveurs : 26, Non-buveurs : 0\n"
     ]
    }
   ],
   "source": [
    "total = 0\n",
    "\n",
    "faux_positif_alcool, faux_negatif_alcool = 0, 0\n",
    "non_buveurs, buveurs = 0, 0\n",
    "\n",
    "echantillons = list(range(len(df_person)))\n",
    "random.shuffle(echantillons)\n",
    "\n",
    "if 'alcool' not in df_facteur_risque.columns:\n",
    "    raise ValueError(\"La colonne 'alcool' n'existe pas dans df_facteur_risque. Assurez-vous que le script de improve_data.ipynb a été exécuté correctement.\")\n",
    "\n",
    "for i in echantillons:\n",
    "    person_id = df_person.iloc[i]['person_id']\n",
    "    visit = df_visit[df_visit['person_id'] == person_id].iloc[0]\n",
    "    note = df_note[df_note['visit_occurrence_id'] == visit['visit_occurrence_id']].iloc[0]\n",
    "\n",
    "    alcoolique = df_facteur_risque.loc[df_facteur_risque['person_id'] == person_id]['alcool'].values\n",
    "\n",
    "    if not alcoolique:\n",
    "        continue # On ne considère que les patients avec un facteur de risque alcool, car il y en a trop peu\n",
    "\n",
    "    print(note['note_text'])\n",
    "    res = input(\"Le patient consomme-t-il de l'alcool ? (y/n) : \")\n",
    "\n",
    "    total += 1\n",
    "\n",
    "    if res == 'y':\n",
    "        buveurs += 1\n",
    "    elif res == 'n':\n",
    "        faux_positif_alcool += 1\n",
    "        buveurs += 1\n",
    "    else:\n",
    "        total -= 1\n",
    "\n",
    "    clear_output(wait=True)\n",
    "\n",
    "    print(f\"Total : {total}, Faux positifs (alcool) : {faux_positif_alcool}, \"\n",
    "          f\"Faux négatifs (alcool) : {faux_negatif_alcool}, Buveurs : {buveurs}, Non-buveurs : {non_buveurs}\")\n",
    "\n",
    "    if res == 'exit':\n",
    "        break\n",
    "\n",
    "if total > 10:\n",
    "    with open(os.path.join(input_dir, 'alcool_results.txt'), 'w') as f:\n",
    "        f.write(f\"Total : {total}\\n\")\n",
    "        f.write(f\"Faux positifs (alcool) : {faux_positif_alcool}\\n\")\n",
    "        f.write(f\"Faux négatifs (alcool) : {faux_negatif_alcool}\\n\")\n",
    "        f.write(f\"Buveurs : {buveurs}\\n\")\n",
    "        f.write(f\"Non-buveurs : {non_buveurs}\\n\")\n",
    "else:\n",
    "    print(\"Pas assez de données pour enregistrer les résultats.\")\n"
   ]
  }
 ],
 "metadata": {
  "kernelspec": {
   "display_name": "3.11.11",
   "language": "python",
   "name": "python3"
  },
  "language_info": {
   "codemirror_mode": {
    "name": "ipython",
    "version": 3
   },
   "file_extension": ".py",
   "mimetype": "text/x-python",
   "name": "python",
   "nbconvert_exporter": "python",
   "pygments_lexer": "ipython3",
   "version": "3.11.11"
  }
 },
 "nbformat": 4,
 "nbformat_minor": 5
}
