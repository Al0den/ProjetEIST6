{
 "cells": [
  {
   "cell_type": "code",
   "execution_count": null,
   "id": "815c779c",
   "metadata": {},
   "outputs": [],
   "source": [
    "'''\n",
    "\n",
    "Evaluateur de performance du modèle statistique.\n",
    "Ce fichier permet à l'aide de vérification humaine de valider si si une note \n",
    "relevée comme positive est un faux positif ou non.\n",
    "Cette vérification est cependant biaisé par l'interprétation du modèle de \n",
    "vérification et permet uniquement de détecter les faux positifs. Un autre modèle \n",
    "d'évaluation de performance plus perforfant à été refais pour remplacer celui-ci \n",
    "\n",
    "'''"
   ]
  },
  {
   "cell_type": "code",
   "execution_count": null,
   "id": "5f6e89a9",
   "metadata": {},
   "outputs": [],
   "source": [
    "import pandas as pd\n",
    "import os\n",
    "\n",
    "import matplotlib.pyplot as plt\n",
    "import numpy as np\n",
    "from datetime import datetime\n",
    "\n",
    "from IPython.display import clear_output\n",
    "from spacy import displacy\n",
    "import edsnlp, edsnlp.pipes as eds\n",
    "\n",
    "input_dir = \"../data_clean/\"\n",
    "visuals_dir = \"../visuals/\" "
   ]
  },
  {
   "cell_type": "code",
   "execution_count": null,
   "id": "ea217690",
   "metadata": {},
   "outputs": [],
   "source": [
    "df_person = pd.read_pickle(os.path.join(input_dir, 'df_person.pkl'))\n",
    "df_bio = pd.read_pickle(os.path.join(input_dir, 'df_bio.pkl'))\n",
    "df_note = pd.read_pickle(os.path.join(input_dir, 'df_note.pkl'))\n",
    "df_visit = pd.read_pickle(os.path.join(input_dir, 'df_visit.pkl'))\n",
    "df_condition = pd.read_pickle(os.path.join(input_dir, 'df_condition.pkl'))"
   ]
  },
  {
   "cell_type": "code",
   "execution_count": null,
   "id": "ee9e216c",
   "metadata": {},
   "outputs": [],
   "source": [
    "nlp = edsnlp.blank(\"eds\")\n",
    "nlp.add_pipe(eds.sentences())\n",
    "nlp.add_pipe(eds.normalizer())\n",
    "nlp.add_pipe(eds.tobacco())\n",
    "nlp.add_pipe(eds.negation())\n",
    "nlp.add_pipe(eds.family())\n",
    "\n",
    "false_positive = 0\n",
    "for i in range(len(df_person)):\n",
    "    note = df_note.iloc[i]\n",
    "    text = note['note_text']\n",
    "    doc = nlp(text)\n",
    "\n",
    "    filtered_ents_for_display = [ent for ent in doc.ents if not ent._.family]\n",
    "    filtered_ents_for_display = [ent for ent in filtered_ents_for_display if not ent._.negation]\n",
    "\n",
    "    visit_id_from_sampled_note = note['visit_occurrence_id']\n",
    "    matching_visit_rows = df_visit[df_visit['visit_occurrence_id'] == visit_id_from_sampled_note]\n",
    "\n",
    "    current_note_id_scalar = note['note_id']\n",
    "    person_id = matching_visit_rows['person_id'].iloc[0]\n",
    "\n",
    "    # Compteur pour limiter le nombre de notes positives traitées\n",
    "    compteur = 0\n",
    "    if filtered_ents_for_display: \n",
    "        compteur += 1\n",
    "        # Affichage de la note pour l'utilisateur humain\n",
    "        clear_output(wait=True)\n",
    "        print(f\"Note {i+1}/{len(df_person)} détectée comme positive :\")\n",
    "        options = {\"ents\": [ent.label_ for ent in filtered_ents_for_display], \"colors\": {\"ALCOHOL\": \"#ffffff\"}}\n",
    "        displacy.render(doc, style=\"ent\", jupyter=True, options=options)\n",
    "        # Input par l'utilisateur et traitement de l'input\n",
    "        user_input = input(\"Est-ce un faux positif ? (y/n) : \").strip().lower()\n",
    "        if user_input == \"y\":\n",
    "            false_positive += 1\n",
    "        else:\n",
    "            df_person.loc[df_person['person_id'] == person_id, 'fumeur'] = True\n",
    "        if compteur == 20:\n",
    "            print(\"20 notes positives traitées, arrêt du traitement.\")\n",
    "            break\n",
    "    else:\n",
    "        df_person.loc[df_person['person_id'] == person_id, 'fumeur'] = False\n",
    "\n",
    "print(f\"Total total faux positifs: {false_positive}\")"
   ]
  }
 ],
 "metadata": {
  "kernelspec": {
   "display_name": ".venv",
   "language": "python",
   "name": "python3"
  },
  "language_info": {
   "codemirror_mode": {
    "name": "ipython",
    "version": 3
   },
   "file_extension": ".py",
   "mimetype": "text/x-python",
   "name": "python",
   "nbconvert_exporter": "python",
   "pygments_lexer": "ipython3",
   "version": "3.11.9"
  }
 },
 "nbformat": 4,
 "nbformat_minor": 5
}
