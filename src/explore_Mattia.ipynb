{
 "cells": [
  {
   "cell_type": "code",
   "execution_count": 2,
   "id": "817b54dd",
   "metadata": {},
   "outputs": [],
   "source": [
    "import pandas as pd"
   ]
  },
  {
   "cell_type": "code",
   "execution_count": 3,
   "id": "b6e8d145",
   "metadata": {},
   "outputs": [],
   "source": [
    "df_bio = pd.read_pickle('../data_raw/df_bio.pkl')\n",
    "df_condition = pd.read_pickle('../data_raw/df_condition.pkl')\n",
    "df_dedup_deterministic = pd.read_pickle('../data_raw/df_dedup_deterministic.pkl')\n",
    "df_dedup_proba = pd.read_pickle('../data_raw/df_dedup_proba.pkl')\n",
    "df_note = pd.read_pickle('../data_raw/df_note.pkl')\n",
    "df_person = pd.read_pickle('../data_raw/df_person.pkl')\n",
    "df_visit = pd.read_pickle('../data_raw/df_visit.pkl')"
   ]
  },
  {
   "cell_type": "code",
   "execution_count": 4,
   "id": "c49735e5",
   "metadata": {},
   "outputs": [
    {
     "name": "stdout",
     "output_type": "stream",
     "text": [
      "<class 'pandas.core.frame.DataFrame'>\n",
      "RangeIndex: 2152 entries, 0 to 2151\n",
      "Data columns (total 4 columns):\n",
      " #   Column                   Non-Null Count  Dtype  \n",
      "---  ------                   --------------  -----  \n",
      " 0   visit_occurrence_id      2152 non-null   float64\n",
      " 1   person_id                2152 non-null   float64\n",
      " 2   condition_occurrence_id  2152 non-null   float64\n",
      " 3   condition_source_value   2152 non-null   object \n",
      "dtypes: float64(3), object(1)\n",
      "memory usage: 67.4+ KB\n",
      "<class 'pandas.core.frame.DataFrame'>\n",
      "RangeIndex: 1547 entries, 0 to 1546\n",
      "Data columns (total 5 columns):\n",
      " #   Column               Non-Null Count  Dtype         \n",
      "---  ------               --------------  -----         \n",
      " 0   birth_datetime       1547 non-null   datetime64[ns]\n",
      " 1   death_datetime       830 non-null    datetime64[ns]\n",
      " 2   gender_source_value  1547 non-null   object        \n",
      " 3   cdm_source           1547 non-null   object        \n",
      " 4   person_id            1547 non-null   float64       \n",
      "dtypes: datetime64[ns](2), float64(1), object(2)\n",
      "memory usage: 60.6+ KB\n"
     ]
    }
   ],
   "source": [
    "df_condition.info()\n",
    "df_person.info()"
   ]
  },
  {
   "cell_type": "code",
   "execution_count": 7,
   "id": "c59763a9",
   "metadata": {},
   "outputs": [
    {
     "data": {
      "text/html": [
       "<div>\n",
       "<style scoped>\n",
       "    .dataframe tbody tr th:only-of-type {\n",
       "        vertical-align: middle;\n",
       "    }\n",
       "\n",
       "    .dataframe tbody tr th {\n",
       "        vertical-align: top;\n",
       "    }\n",
       "\n",
       "    .dataframe thead th {\n",
       "        text-align: right;\n",
       "    }\n",
       "</style>\n",
       "<table border=\"1\" class=\"dataframe\">\n",
       "  <thead>\n",
       "    <tr style=\"text-align: right;\">\n",
       "      <th></th>\n",
       "      <th>visit_occurrence_id</th>\n",
       "      <th>person_id</th>\n",
       "      <th>condition_occurrence_id</th>\n",
       "      <th>condition_source_value</th>\n",
       "    </tr>\n",
       "  </thead>\n",
       "  <tbody>\n",
       "    <tr>\n",
       "      <th>0</th>\n",
       "      <td>85319808.0</td>\n",
       "      <td>84829170.0</td>\n",
       "      <td>87142885.0</td>\n",
       "      <td>T51</td>\n",
       "    </tr>\n",
       "    <tr>\n",
       "      <th>1</th>\n",
       "      <td>80902406.0</td>\n",
       "      <td>85929376.0</td>\n",
       "      <td>89378651.0</td>\n",
       "      <td>Z720</td>\n",
       "    </tr>\n",
       "    <tr>\n",
       "      <th>2</th>\n",
       "      <td>84295593.0</td>\n",
       "      <td>86868894.0</td>\n",
       "      <td>85796828.0</td>\n",
       "      <td>C504</td>\n",
       "    </tr>\n",
       "    <tr>\n",
       "      <th>3</th>\n",
       "      <td>84975826.0</td>\n",
       "      <td>85566948.0</td>\n",
       "      <td>81895083.0</td>\n",
       "      <td>F023</td>\n",
       "    </tr>\n",
       "    <tr>\n",
       "      <th>4</th>\n",
       "      <td>83844409.0</td>\n",
       "      <td>89203324.0</td>\n",
       "      <td>87313829.0</td>\n",
       "      <td>Z803</td>\n",
       "    </tr>\n",
       "    <tr>\n",
       "      <th>5</th>\n",
       "      <td>81670860.0</td>\n",
       "      <td>89537429.0</td>\n",
       "      <td>86035687.0</td>\n",
       "      <td>C503</td>\n",
       "    </tr>\n",
       "    <tr>\n",
       "      <th>6</th>\n",
       "      <td>80881507.0</td>\n",
       "      <td>85793827.0</td>\n",
       "      <td>85116464.0</td>\n",
       "      <td>E12</td>\n",
       "    </tr>\n",
       "    <tr>\n",
       "      <th>7</th>\n",
       "      <td>82073343.0</td>\n",
       "      <td>86557312.0</td>\n",
       "      <td>86547520.0</td>\n",
       "      <td>C19</td>\n",
       "    </tr>\n",
       "    <tr>\n",
       "      <th>8</th>\n",
       "      <td>83907750.0</td>\n",
       "      <td>83215252.0</td>\n",
       "      <td>82495921.0</td>\n",
       "      <td>C501</td>\n",
       "    </tr>\n",
       "    <tr>\n",
       "      <th>9</th>\n",
       "      <td>84249672.0</td>\n",
       "      <td>85378199.0</td>\n",
       "      <td>83705230.0</td>\n",
       "      <td>C504</td>\n",
       "    </tr>\n",
       "  </tbody>\n",
       "</table>\n",
       "</div>"
      ],
      "text/plain": [
       "   visit_occurrence_id   person_id  condition_occurrence_id  \\\n",
       "0           85319808.0  84829170.0               87142885.0   \n",
       "1           80902406.0  85929376.0               89378651.0   \n",
       "2           84295593.0  86868894.0               85796828.0   \n",
       "3           84975826.0  85566948.0               81895083.0   \n",
       "4           83844409.0  89203324.0               87313829.0   \n",
       "5           81670860.0  89537429.0               86035687.0   \n",
       "6           80881507.0  85793827.0               85116464.0   \n",
       "7           82073343.0  86557312.0               86547520.0   \n",
       "8           83907750.0  83215252.0               82495921.0   \n",
       "9           84249672.0  85378199.0               83705230.0   \n",
       "\n",
       "  condition_source_value  \n",
       "0                    T51  \n",
       "1                   Z720  \n",
       "2                   C504  \n",
       "3                   F023  \n",
       "4                   Z803  \n",
       "5                   C503  \n",
       "6                    E12  \n",
       "7                    C19  \n",
       "8                   C501  \n",
       "9                   C504  "
      ]
     },
     "execution_count": 7,
     "metadata": {},
     "output_type": "execute_result"
    }
   ],
   "source": [
    "df_condition.head(10)\n"
   ]
  },
  {
   "cell_type": "code",
   "execution_count": 16,
   "id": "0a6b3d49",
   "metadata": {},
   "outputs": [
    {
     "data": {
      "text/plain": [
       "array([np.str_('T51'), np.str_('Z720'), np.str_('C504'), np.str_('F023'),\n",
       "       np.str_('Z803'), np.str_('C503'), np.str_('E12'), np.str_('C19'),\n",
       "       np.str_('C501'), np.str_('G20'), np.str_('C502'), np.str_('I13'),\n",
       "       np.str_('C50'), np.str_('C34'), np.str_('C500'), np.str_('Z587'),\n",
       "       np.str_('Z864'), np.str_('I12'), np.str_('I15'), np.str_('E10'),\n",
       "       np.str_('Z716'), np.str_('E11'), np.str_('F10'), np.str_('K70')],\n",
       "      dtype=object)"
      ]
     },
     "execution_count": 16,
     "metadata": {},
     "output_type": "execute_result"
    }
   ],
   "source": [
    "df_condition.condition_source_value.value_counts()\n",
    "len(df_condition.person_id.unique())\n",
    "df_condition.condition_source_value.unique()\n"
   ]
  },
  {
   "cell_type": "code",
   "execution_count": 9,
   "id": "25a6467f",
   "metadata": {},
   "outputs": [
    {
     "data": {
      "text/plain": [
       "np.int64(0)"
      ]
     },
     "execution_count": 9,
     "metadata": {},
     "output_type": "execute_result"
    }
   ],
   "source": [
    "df_condition.condition_source_value.isna().sum()\n"
   ]
  },
  {
   "cell_type": "code",
   "execution_count": null,
   "id": "00e7018b",
   "metadata": {},
   "outputs": [],
   "source": [
    "def code_maladie(code_ice):\n",
    "    data = {\n",
    "        \"T51\": \"Effet toxique de l'alcool\",\n",
    "        \"Z720\": \"Usage du tabac\",\n",
    "        \"C504\": \"Tumeur maligne du quadrant supéro-externe du sein\",\n",
    "        \"F023\": \"Démence dans la maladie de Parkinson\",\n",
    "        \"Z803\": \"Antécédents familiaux de tumeur maligne du sein\",\n",
    "        \"C503\": \"Tumeur maligne du quadrant inféro-interne du sein\",\n",
    "        \"E12\": \"Diabète sucré lié à la malnutrition\",\n",
    "        \"C19\": \"Tumeur maligne de la jonction rectosigmoïdienne\",\n",
    "        \"C501\": \"Tumeur maligne de la partie centrale du sein\",\n",
    "        \"G20\": \"Maladie de Parkinson\",\n",
    "        \"C502\": \"Tumeur maligne du quadrant supéro-interne du sein\",\n",
    "        \"I13\": \"Maladie cardiaque hypertensive avec maladie rénale\",\n",
    "        \"C50\": \"Tumeur maligne du sein\",\n",
    "        \"C34\": \"Tumeur maligne des bronches et du poumon\",\n",
    "        \"C500\": \"Tumeur maligne du mamelon et de l'aréole\",\n",
    "        \"Z587\": \"Exposition à la pollution atmosphérique\",\n",
    "        \"Z864\": \"Antécédents personnels de maladie mentale et comportementale\",\n",
    "        \"I12\": \"Hypertension avec atteinte rénale\",\n",
    "        \"I15\": \"Hypertension secondaire\",\n",
    "        \"E10\": \"Diabète sucré de type 1\",\n",
    "        \"Z716\": \"Conseil et surveillance pour d'autres problèmes de santé\",\n",
    "        \"E11\": \"Diabète sucré de type 2\",\n",
    "        \"F10\": \"Troubles mentaux et comportementaux liés à l'utilisation d'alcool\",\n",
    "        \"K70\": \"Maladie alcoolique du foie\"\n",
    "    }\n",
    "    return data.get(code_ice)"
   ]
  }
 ],
 "metadata": {
  "kernelspec": {
   "display_name": ".venv",
   "language": "python",
   "name": "python3"
  },
  "language_info": {
   "codemirror_mode": {
    "name": "ipython",
    "version": 3
   },
   "file_extension": ".py",
   "mimetype": "text/x-python",
   "name": "python",
   "nbconvert_exporter": "python",
   "pygments_lexer": "ipython3",
   "version": "3.11.9"
  }
 },
 "nbformat": 4,
 "nbformat_minor": 5
}
