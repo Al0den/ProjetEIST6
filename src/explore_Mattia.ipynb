{
 "cells": [
  {
   "cell_type": "code",
   "execution_count": 1,
   "id": "817b54dd",
   "metadata": {},
   "outputs": [],
   "source": [
    "import pandas as pd"
   ]
  },
  {
   "cell_type": "code",
   "execution_count": 2,
   "id": "b6e8d145",
   "metadata": {},
   "outputs": [],
   "source": [
    "df_bio = pd.read_pickle('../data_raw/df_bio.pkl')\n",
    "df_condition = pd.read_pickle('../data_raw/df_condition.pkl')\n",
    "df_dedup_deterministic = pd.read_pickle('../data_raw/df_dedup_deterministic.pkl')\n",
    "df_dedup_proba = pd.read_pickle('../data_raw/df_dedup_proba.pkl')\n",
    "df_note = pd.read_pickle('../data_raw/df_note.pkl')\n",
    "df_person = pd.read_pickle('../data_raw/df_person.pkl')\n",
    "df_visit = pd.read_pickle('../data_raw/df_visit.pkl')"
   ]
  },
  {
   "cell_type": "code",
   "execution_count": 16,
   "id": "c49735e5",
   "metadata": {},
   "outputs": [
    {
     "name": "stdout",
     "output_type": "stream",
     "text": [
      "<class 'pandas.core.frame.DataFrame'>\n",
      "RangeIndex: 1547 entries, 0 to 1546\n",
      "Data columns (total 5 columns):\n",
      " #   Column               Non-Null Count  Dtype         \n",
      "---  ------               --------------  -----         \n",
      " 0   birth_datetime       1547 non-null   datetime64[ns]\n",
      " 1   death_datetime       830 non-null    datetime64[ns]\n",
      " 2   gender_source_value  1547 non-null   object        \n",
      " 3   cdm_source           1547 non-null   object        \n",
      " 4   person_id            1547 non-null   float64       \n",
      "dtypes: datetime64[ns](2), float64(1), object(2)\n",
      "memory usage: 60.6+ KB\n"
     ]
    }
   ],
   "source": [
    "#df_condition.info()\n",
    "df_person.info()\n",
    "# df_note.info()\n",
    "# df_visit.info()"
   ]
  },
  {
   "cell_type": "code",
   "execution_count": 15,
   "id": "c59763a9",
   "metadata": {},
   "outputs": [
    {
     "name": "stdout",
     "output_type": "stream",
     "text": [
      "bio\n",
      "   measurement_id  visit_occurrence_id measurement_datetime  \\\n",
      "0      85402828.0           87578820.0           2022-05-06   \n",
      "1      89452956.0           82594821.0           2024-10-23   \n",
      "2      88918901.0           87469572.0           2020-02-23   \n",
      "3      86302942.0           88399883.0           2020-02-28   \n",
      "4      86607398.0           86752406.0           2025-08-28   \n",
      "5      80282939.0           81789981.0           2021-09-29   \n",
      "6      89175337.0           84635554.0           2020-12-08   \n",
      "7      89390817.0           86355363.0           2022-03-11   \n",
      "8      80094011.0           84186634.0           2020-06-20   \n",
      "9      89840627.0           81131365.0           2019-12-15   \n",
      "\n",
      "  concept_source_value  transformed_value transformed_unit  \n",
      "0                  crp               4.53             mg/L  \n",
      "1                   hb              14.18             g/dL  \n",
      "2                   hb              12.31             g/dL  \n",
      "3                   hb              12.04             g/dL  \n",
      "4                  crp               3.86             mg/L  \n",
      "5                  bmi              25.29         kg.cm^-2  \n",
      "6                   hb              12.95             g/dL  \n",
      "7                  crp               4.09             mg/L  \n",
      "8                   hb              11.97             g/dL  \n",
      "9                   hb              10.19             g/dL  \n",
      "['crp' 'hb' 'bmi' 'urea']\n",
      "[ 4.53 14.18 12.31 ... 20.59 20.6  25.1 ]\n",
      "['mg/L' 'g/dL' 'kg.cm^-2' 'mmol/L']\n",
      "1547\n",
      "6188\n"
     ]
    }
   ],
   "source": [
    "# print(\"condition\")\n",
    "# print(df_condition.head(10))\n",
    "# print(\"visit\")\n",
    "# print(df_visit.head(10))\n",
    "# print(\"note\")\n",
    "# print(df_note.head(10))\n",
    "# print(\"dedup deterministic\")\n",
    "# print(df_dedup_deterministic.head(10))\n",
    "print(\"bio\")\n",
    "print(df_bio.head(10))\n",
    "# print(\"dedup proba\")\n",
    "# print(df_dedup_proba.head(10))\n",
    "print(df_bio.concept_source_value.unique())\n",
    "print(df_bio.transformed_value.unique())\n",
    "print(df_bio.transformed_unit.unique())\n",
    "print(len(df_bio.query('concept_source_value == \"bmi\"')))\n",
    "print(len(df_bio))"
   ]
  },
  {
   "cell_type": "code",
   "execution_count": 3,
   "id": "0a6b3d49",
   "metadata": {},
   "outputs": [
    {
     "data": {
      "text/plain": [
       "array([np.str_('T51'), np.str_('Z720'), np.str_('C504'), np.str_('F023'),\n",
       "       np.str_('Z803'), np.str_('C503'), np.str_('E12'), np.str_('C19'),\n",
       "       np.str_('C501'), np.str_('G20'), np.str_('C502'), np.str_('I13'),\n",
       "       np.str_('C50'), np.str_('C34'), np.str_('C500'), np.str_('Z587'),\n",
       "       np.str_('Z864'), np.str_('I12'), np.str_('I15'), np.str_('E10'),\n",
       "       np.str_('Z716'), np.str_('E11'), np.str_('F10'), np.str_('K70')],\n",
       "      dtype=object)"
      ]
     },
     "execution_count": 3,
     "metadata": {},
     "output_type": "execute_result"
    }
   ],
   "source": [
    "df_condition.condition_source_value.value_counts()\n",
    "len(df_condition.person_id.unique())\n",
    "df_condition.condition_source_value.unique()\n"
   ]
  },
  {
   "cell_type": "code",
   "execution_count": 4,
   "id": "25a6467f",
   "metadata": {},
   "outputs": [
    {
     "data": {
      "text/plain": [
       "np.int64(0)"
      ]
     },
     "execution_count": 4,
     "metadata": {},
     "output_type": "execute_result"
    }
   ],
   "source": [
    "df_condition.condition_source_value.isna().sum()\n"
   ]
  },
  {
   "cell_type": "code",
   "execution_count": null,
   "id": "00e7018b",
   "metadata": {},
   "outputs": [],
   "source": [
    "def code_maladie(code_ice):\n",
    "    data = {\n",
    "        \"T51\": \"Effet toxique de l'alcool\",\n",
    "        \"Z720\": \"Usage du tabac\",\n",
    "        \"C504\": \"Tumeur maligne du quadrant supéro-externe du sein\",\n",
    "        \"F023\": \"Démence dans la maladie de Parkinson\",\n",
    "        \"Z803\": \"Antécédents familiaux de tumeur maligne du sein\",\n",
    "        \"C503\": \"Tumeur maligne du quadrant inféro-interne du sein\",\n",
    "        \"E12\": \"Diabète sucré lié à la malnutrition\",\n",
    "        \"C19\": \"Tumeur maligne de la jonction rectosigmoïdienne\",\n",
    "        \"C501\": \"Tumeur maligne de la partie centrale du sein\",\n",
    "        \"G20\": \"Maladie de Parkinson\",\n",
    "        \"C502\": \"Tumeur maligne du quadrant supéro-interne du sein\",\n",
    "        \"I13\": \"Maladie cardiaque hypertensive avec maladie rénale\",\n",
    "        \"C50\": \"Tumeur maligne du sein\",\n",
    "        \"C34\": \"Tumeur maligne des bronches et du poumon\",\n",
    "        \"C500\": \"Tumeur maligne du mamelon et de l'aréole\",\n",
    "        \"Z587\": \"Exposition à la pollution atmosphérique\",\n",
    "        \"Z864\": \"Antécédents personnels de maladie mentale et comportementale\",\n",
    "        \"I12\": \"Hypertension avec atteinte rénale\",\n",
    "        \"I15\": \"Hypertension secondaire\",\n",
    "        \"E10\": \"Diabète sucré de type 1\",\n",
    "        \"Z716\": \"Conseil et surveillance pour d'autres problèmes de santé\",\n",
    "        \"E11\": \"Diabète sucré de type 2\",\n",
    "        \"F10\": \"Troubles mentaux et comportementaux liés à l'utilisation d'alcool\",\n",
    "        \"K70\": \"Maladie alcoolique du foie\",\n",
    "        \"Y424\": \"contraceptif oraux\"\n",
    "    }\n",
    "    return data.get(code_ice)"
   ]
  },
  {
   "cell_type": "code",
   "execution_count": 6,
   "id": "2b60c386",
   "metadata": {},
   "outputs": [],
   "source": [
    "df_bio_c = pd.read_pickle('../data_clean/df_bio.pkl')\n",
    "df_condition_c = pd.read_pickle('../data_clean/df_condition.pkl')\n",
    "# df_dedup_deterministic_c = pd.read_pickle('../data_clean/df_dedup_deterministic.pkl')\n",
    "# df_dedup_proba_c = pd.read_pickle('../data_clean/df_dedup_proba.pkl')\n",
    "df_note_c = pd.read_pickle('../data_clean/df_note.pkl')\n",
    "df_person_c = pd.read_pickle('../data_clean/df_person.pkl')\n",
    "df_visit_c = pd.read_pickle('../data_clean/df_visit.pkl')"
   ]
  },
  {
   "cell_type": "code",
   "execution_count": 44,
   "id": "df0cf27d",
   "metadata": {},
   "outputs": [
    {
     "name": "stdout",
     "output_type": "stream",
     "text": [
      "      visit_occurrence_id  condition_occurrence_id condition_source_value  \\\n",
      "1315           88399883.0               82460895.0                    C19   \n",
      "396            82102881.0               89669456.0                    I13   \n",
      "1301           80106135.0               86211907.0                    I13   \n",
      "65             87881445.0               83125028.0                   Z803   \n",
      "727            88036859.0               81167342.0                    C34   \n",
      "914            84622465.0               81082495.0                   Z803   \n",
      "652            88303020.0               85347493.0                    I13   \n",
      "1197           84821080.0               88167563.0                   F023   \n",
      "1191           86439883.0               86706067.0                   C500   \n",
      "951            83543542.0               89898622.0                    I13   \n",
      "\n",
      "       person_id  \n",
      "1315  81270052.0  \n",
      "396   82389917.0  \n",
      "1301  87549218.0  \n",
      "65    81404825.0  \n",
      "727   84804600.0  \n",
      "914   82108021.0  \n",
      "652   87926403.0  \n",
      "1197  82526576.0  \n",
      "1191  86676429.0  \n",
      "951   82940784.0  \n",
      "     visit_occurrence_id  condition_occurrence_id condition_source_value  \\\n",
      "10            88867299.0               84467642.0                   C503   \n",
      "641           82707395.0               82732512.0                   C500   \n",
      "\n",
      "      person_id  \n",
      "10   87612663.0  \n",
      "641  87612663.0  \n"
     ]
    }
   ],
   "source": [
    "print(df_condition_c.sample(10))\n",
    "#print(len(df_condition_c))\n",
    "print(df_condition_c[df_condition_c['person_id'] == 87612663.0])\n"
   ]
  },
  {
   "cell_type": "code",
   "execution_count": 7,
   "id": "d61b681c",
   "metadata": {},
   "outputs": [
    {
     "name": "stdout",
     "output_type": "stream",
     "text": [
      "ont le cancer (sans enlever les doublons):  497\n"
     ]
    }
   ],
   "source": [
    "data5 = df_condition_c.condition_source_value.value_counts()\n",
    "print(\"ont le cancer (sans enlever les doublons): \", data5.loc[\"C50\"] + data5.loc[\"C500\"] + data5.loc[\"C501\"]+ data5.loc[\"C502\"]+ data5.loc[\"C503\"]+ data5.loc[\"C504\"])\n"
   ]
  },
  {
   "cell_type": "code",
   "execution_count": 8,
   "id": "35a6eed1",
   "metadata": {},
   "outputs": [],
   "source": [
    "def a_le_cancer_sein(person_id, df_condition):\n",
    "    cancer_sein_codes = {\"C50\", \"C500\", \"C501\", \"C502\", \"C503\", \"C504\"}\n",
    "    patient_conditions = df_condition[df_condition['person_id'] == person_id]\n",
    "    return any(str(code) in cancer_sein_codes for code in patient_conditions['condition_source_value'])"
   ]
  },
  {
   "cell_type": "code",
   "execution_count": 46,
   "id": "401f55c7",
   "metadata": {},
   "outputs": [
    {
     "name": "stdout",
     "output_type": "stream",
     "text": [
      "True\n",
      "False\n",
      "False\n",
      "False\n",
      "False\n"
     ]
    }
   ],
   "source": [
    "print(a_le_cancer_sein(87672060.0,df_condition_c))\n",
    "print(a_le_cancer_sein(83124716.0,df_condition_c))\n",
    "print(a_le_cancer_sein(82389917.0,df_condition_c))\n",
    "print(a_le_cancer_sein(84804600.0,df_condition_c))\n",
    "print(a_le_cancer_sein(82526576.0,df_condition_c))"
   ]
  },
  {
   "cell_type": "code",
   "execution_count": 9,
   "id": "6aba26c2",
   "metadata": {},
   "outputs": [],
   "source": [
    "def fume(person_id, df_condition):\n",
    "    fume_codes = {\"Z720\"}\n",
    "    patient_conditions = df_condition[df_condition['person_id'] == person_id]\n",
    "    return any(str(code) in fume_codes for code in patient_conditions['condition_source_value'])"
   ]
  },
  {
   "cell_type": "code",
   "execution_count": 31,
   "id": "6f9d8a0e",
   "metadata": {},
   "outputs": [],
   "source": [
    "df_note = pd.read_pickle('../data_clean/df_note.pkl')\n"
   ]
  },
  {
   "cell_type": "code",
   "execution_count": 53,
   "id": "9c59bf9a",
   "metadata": {},
   "outputs": [
    {
     "name": "stdout",
     "output_type": "stream",
     "text": [
      "Compte rendu de consultation\n",
      "\n",
      "Patient : [Nom du patient]\n",
      "Âge : [Âge du patient]\n",
      "Sexe : [Sexe du patient]\n",
      "Numéro de dossier : [Numéro de dossier du patient]\n",
      "\n",
      "Motif de la consultation:\n",
      "Des ressources ont été fournies à la patiente pour obtenir des informations sur les groupes de soutien en ligne et les forums de discussion où elle peut partager ses expériences et recevoir des conseils de personnes dans des situations similaires.\n",
      "\n",
      "Antecedents familiaux :\n",
      "La patiente a également déclaré qu'elle n'avait pas d'antécédents familiaux de cancer du sein du côté paternel.\n",
      "\n",
      "Histoire de la maladie:\n",
      "L'oncologue a procédé à un examen physique détaillé, en se concentrant sur l'évaluation de la taille de la tumeur et de son emplacement.\n",
      "\n",
      "Examen du patient:\n",
      "Les dossiers médicaux de la patiente ne révèlent aucun traitement ou suivi lié au tabagisme, ce qui confirme qu'elle ne fume pas.\n",
      "\n",
      "Plan de traitement:\n",
      "Dans le cadre de son plan de traitement, la patiente sera encouragée à prendre des mesures de prévention du lymphœdème, telles que l'évitement des traumatismes et des infections, ainsi que l'utilisation de techniques spécifiques de drainage lymphatique.\n",
      "\n",
      "Signature du médecin :\n",
      "[Nom du médecin]\n",
      "[Titre/Spécialité]\n",
      "[Hôpital/Service]\n"
     ]
    }
   ],
   "source": [
    "print(df_note.note_text.sample(1).squeeze())"
   ]
  },
  {
   "cell_type": "code",
   "execution_count": 34,
   "id": "ad2d52bf",
   "metadata": {},
   "outputs": [
    {
     "name": "stdout",
     "output_type": "stream",
     "text": [
      "      visit_occurrence_id note_datetime     note_id  \\\n",
      "1              84162050.0    2022-12-02  87336601.0   \n",
      "2              88991591.0    2020-10-20  80825304.0   \n",
      "3              87431501.0    2020-03-29  82508858.0   \n",
      "5              89635128.0    2022-08-08  89621840.0   \n",
      "6              82524306.0    2025-10-01  89057796.0   \n",
      "...                   ...           ...         ...   \n",
      "1534           80341509.0    2022-12-12  81610706.0   \n",
      "1536           80324215.0    2022-01-16  82404094.0   \n",
      "1538           87531882.0    2020-01-17  83928134.0   \n",
      "1539           89114025.0    2022-08-02  87245842.0   \n",
      "1541           89900814.0    2025-07-25  82965351.0   \n",
      "\n",
      "                                              note_text  \n",
      "1     Compte rendu de consultation\\n\\nPatient : [Nom...  \n",
      "2     Compte rendu de consultation\\n\\nPatient : [Nom...  \n",
      "3     Compte rendu de consultation\\n\\nPatient : [Nom...  \n",
      "5     Compte rendu de consultation\\n\\nPatient : [Nom...  \n",
      "6     Compte rendu de consultation\\n\\nPatient : [Nom...  \n",
      "...                                                 ...  \n",
      "1534  Compte rendu de consultation\\n\\nPatient : [Nom...  \n",
      "1536  Compte rendu de consultation\\n\\nPatient : [Nom...  \n",
      "1538  Compte rendu de consultation\\n\\nPatient : [Nom...  \n",
      "1539  Compte rendu de consultation\\n\\nPatient : [Nom...  \n",
      "1541  Compte rendu de consultation\\n\\nPatient : [Nom...  \n",
      "\n",
      "[958 rows x 4 columns]\n"
     ]
    }
   ],
   "source": [
    "print(df_note)\n",
    "# print(df_note.note_text.sample(1).squeeze())"
   ]
  },
  {
   "cell_type": "code",
   "execution_count": 59,
   "id": "756f9494",
   "metadata": {},
   "outputs": [
    {
     "data": {
      "text/html": [
       "<div>\n",
       "<style scoped>\n",
       "    .dataframe tbody tr th:only-of-type {\n",
       "        vertical-align: middle;\n",
       "    }\n",
       "\n",
       "    .dataframe tbody tr th {\n",
       "        vertical-align: top;\n",
       "    }\n",
       "\n",
       "    .dataframe thead th {\n",
       "        text-align: right;\n",
       "    }\n",
       "</style>\n",
       "<table border=\"1\" class=\"dataframe\">\n",
       "  <thead>\n",
       "    <tr style=\"text-align: right;\">\n",
       "      <th></th>\n",
       "      <th>birth_datetime</th>\n",
       "      <th>death_datetime</th>\n",
       "      <th>gender_source_value</th>\n",
       "      <th>person_id</th>\n",
       "      <th>prob</th>\n",
       "      <th>Tabac_vérité</th>\n",
       "      <th>Alcool_vérité</th>\n",
       "    </tr>\n",
       "  </thead>\n",
       "  <tbody>\n",
       "    <tr>\n",
       "      <th>0</th>\n",
       "      <td>1961-07-09</td>\n",
       "      <td>2022-02-20</td>\n",
       "      <td>female</td>\n",
       "      <td>80006137.0</td>\n",
       "      <td>NaN</td>\n",
       "      <td>0</td>\n",
       "      <td>0</td>\n",
       "    </tr>\n",
       "    <tr>\n",
       "      <th>1</th>\n",
       "      <td>1951-12-31</td>\n",
       "      <td>2024-07-28</td>\n",
       "      <td>female</td>\n",
       "      <td>80021799.0</td>\n",
       "      <td>NaN</td>\n",
       "      <td>0</td>\n",
       "      <td>0</td>\n",
       "    </tr>\n",
       "    <tr>\n",
       "      <th>2</th>\n",
       "      <td>1959-11-16</td>\n",
       "      <td>NaT</td>\n",
       "      <td>female</td>\n",
       "      <td>80034258.0</td>\n",
       "      <td>NaN</td>\n",
       "      <td>0</td>\n",
       "      <td>0</td>\n",
       "    </tr>\n",
       "    <tr>\n",
       "      <th>3</th>\n",
       "      <td>1975-01-23</td>\n",
       "      <td>NaT</td>\n",
       "      <td>female</td>\n",
       "      <td>89552692.0</td>\n",
       "      <td>1.0</td>\n",
       "      <td>0</td>\n",
       "      <td>0</td>\n",
       "    </tr>\n",
       "    <tr>\n",
       "      <th>4</th>\n",
       "      <td>1951-10-29</td>\n",
       "      <td>NaT</td>\n",
       "      <td>female</td>\n",
       "      <td>80071532.0</td>\n",
       "      <td>NaN</td>\n",
       "      <td>0</td>\n",
       "      <td>0</td>\n",
       "    </tr>\n",
       "    <tr>\n",
       "      <th>...</th>\n",
       "      <td>...</td>\n",
       "      <td>...</td>\n",
       "      <td>...</td>\n",
       "      <td>...</td>\n",
       "      <td>...</td>\n",
       "      <td>...</td>\n",
       "      <td>...</td>\n",
       "    </tr>\n",
       "    <tr>\n",
       "      <th>989</th>\n",
       "      <td>1980-09-14</td>\n",
       "      <td>NaT</td>\n",
       "      <td>female</td>\n",
       "      <td>89940001.0</td>\n",
       "      <td>NaN</td>\n",
       "      <td>0</td>\n",
       "      <td>0</td>\n",
       "    </tr>\n",
       "    <tr>\n",
       "      <th>990</th>\n",
       "      <td>1991-11-27</td>\n",
       "      <td>2023-10-26</td>\n",
       "      <td>female</td>\n",
       "      <td>89945408.0</td>\n",
       "      <td>NaN</td>\n",
       "      <td>0</td>\n",
       "      <td>0</td>\n",
       "    </tr>\n",
       "    <tr>\n",
       "      <th>991</th>\n",
       "      <td>1947-08-12</td>\n",
       "      <td>2024-06-17</td>\n",
       "      <td>female</td>\n",
       "      <td>89958389.0</td>\n",
       "      <td>NaN</td>\n",
       "      <td>0</td>\n",
       "      <td>0</td>\n",
       "    </tr>\n",
       "    <tr>\n",
       "      <th>992</th>\n",
       "      <td>1947-04-05</td>\n",
       "      <td>NaT</td>\n",
       "      <td>female</td>\n",
       "      <td>89978554.0</td>\n",
       "      <td>NaN</td>\n",
       "      <td>0</td>\n",
       "      <td>0</td>\n",
       "    </tr>\n",
       "    <tr>\n",
       "      <th>993</th>\n",
       "      <td>1966-09-03</td>\n",
       "      <td>2021-02-06</td>\n",
       "      <td>female</td>\n",
       "      <td>89990725.0</td>\n",
       "      <td>NaN</td>\n",
       "      <td>0</td>\n",
       "      <td>0</td>\n",
       "    </tr>\n",
       "  </tbody>\n",
       "</table>\n",
       "<p>959 rows × 7 columns</p>\n",
       "</div>"
      ],
      "text/plain": [
       "    birth_datetime death_datetime gender_source_value   person_id  prob  \\\n",
       "0       1961-07-09     2022-02-20              female  80006137.0   NaN   \n",
       "1       1951-12-31     2024-07-28              female  80021799.0   NaN   \n",
       "2       1959-11-16            NaT              female  80034258.0   NaN   \n",
       "3       1975-01-23            NaT              female  89552692.0   1.0   \n",
       "4       1951-10-29            NaT              female  80071532.0   NaN   \n",
       "..             ...            ...                 ...         ...   ...   \n",
       "989     1980-09-14            NaT              female  89940001.0   NaN   \n",
       "990     1991-11-27     2023-10-26              female  89945408.0   NaN   \n",
       "991     1947-08-12     2024-06-17              female  89958389.0   NaN   \n",
       "992     1947-04-05            NaT              female  89978554.0   NaN   \n",
       "993     1966-09-03     2021-02-06              female  89990725.0   NaN   \n",
       "\n",
       "     Tabac_vérité  Alcool_vérité  \n",
       "0               0              0  \n",
       "1               0              0  \n",
       "2               0              0  \n",
       "3               0              0  \n",
       "4               0              0  \n",
       "..            ...            ...  \n",
       "989             0              0  \n",
       "990             0              0  \n",
       "991             0              0  \n",
       "992             0              0  \n",
       "993             0              0  \n",
       "\n",
       "[959 rows x 7 columns]"
      ]
     },
     "execution_count": 59,
     "metadata": {},
     "output_type": "execute_result"
    }
   ],
   "source": [
    "df_person_c\n",
    "df_person_c[\"Alcool_vérité\"] = 0\n",
    "df_person_c"
   ]
  }
 ],
 "metadata": {
  "kernelspec": {
   "display_name": ".venv",
   "language": "python",
   "name": "python3"
  },
  "language_info": {
   "codemirror_mode": {
    "name": "ipython",
    "version": 3
   },
   "file_extension": ".py",
   "mimetype": "text/x-python",
   "name": "python",
   "nbconvert_exporter": "python",
   "pygments_lexer": "ipython3",
   "version": "3.11.9"
  }
 },
 "nbformat": 4,
 "nbformat_minor": 5
}
