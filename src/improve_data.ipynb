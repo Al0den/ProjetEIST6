{
 "cells": [
  {
   "cell_type": "code",
   "execution_count": 1689,
   "metadata": {},
   "outputs": [],
   "source": [
    "import pandas as pd\n",
    "import os\n",
    "\n",
    "import matplotlib.pyplot as plt\n",
    "import numpy as np\n",
    "from datetime import datetime\n",
    "\n",
    "from spacy import displacy\n",
    "import edsnlp, edsnlp.pipes as eds\n",
    "\n",
    "input_dir = \"../data_clean/\"\n",
    "visuals_dir = \"../visuals/\" "
   ]
  },
  {
   "cell_type": "code",
   "execution_count": 1690,
   "id": "22f0b87b",
   "metadata": {},
   "outputs": [],
   "source": [
    "df_person = pd.read_pickle(os.path.join(input_dir, 'df_person.pkl'))\n",
    "df_bio = pd.read_pickle(os.path.join(input_dir, 'df_bio.pkl'))\n",
    "df_note = pd.read_pickle(os.path.join(input_dir, 'df_note.pkl'))\n",
    "df_visit = pd.read_pickle(os.path.join(input_dir, 'df_visit.pkl'))\n",
    "df_condition = pd.read_pickle(os.path.join(input_dir, 'df_condition.pkl'))"
   ]
  },
  {
   "cell_type": "code",
   "execution_count": 1691,
   "id": "43f7652a",
   "metadata": {},
   "outputs": [
    {
     "name": "stderr",
     "output_type": "stream",
     "text": [
      "\u001b[32m2025-06-04 15:09:07.328\u001b[0m | \u001b[33m\u001b[1mWARNING \u001b[0m | \u001b[36medsnlp.pipes.qualifiers.family.family\u001b[0m:\u001b[36m__init__\u001b[0m:\u001b[36m171\u001b[0m - \u001b[33m\u001b[1mYou have requested that the pipeline use annotations provided by the `section` pipeline, but it was not set. Skipping that step.\u001b[0m\n"
     ]
    },
    {
     "name": "stdout",
     "output_type": "stream",
     "text": [
      "Total notes processed: 958\n",
      "Total smokers identified: 90\n"
     ]
    }
   ],
   "source": [
    "nlp = edsnlp.blank(\"eds\")\n",
    "nlp.add_pipe(eds.sentences())\n",
    "nlp.add_pipe(eds.normalizer())\n",
    "nlp.add_pipe(eds.tobacco())\n",
    "nlp.add_pipe(eds.negation())\n",
    "nlp.add_pipe(eds.family())\n",
    "\n",
    "smokers = 0\n",
    "total = 0\n",
    "for i in range(len(df_note)):\n",
    "    note = df_note.iloc[i]\n",
    "    text = note['note_text']\n",
    "    doc = nlp(text)\n",
    "\n",
    "    filtered_ents_for_display = [ent for ent in doc.ents if not ent._.family]\n",
    "    filtered_ents_for_display = [ent for ent in filtered_ents_for_display if not ent._.negation]\n",
    "\n",
    "    visit_id_from_sampled_note = note['visit_occurrence_id']\n",
    "    matching_visit_rows = df_visit[df_visit['visit_occurrence_id'] == visit_id_from_sampled_note]\n",
    "\n",
    "    current_note_id_scalar = note['note_id']\n",
    "    person_id = matching_visit_rows['person_id'].iloc[0]\n",
    "   \n",
    "    if matching_visit_rows.empty:\n",
    "        raise ValueError(f\"No matching visit found for visit_occurrence_id: {visit_id_from_sampled_note}\")\n",
    "    total += 1\n",
    "    if filtered_ents_for_display: \n",
    "        smokers += 1\n",
    "        df_person.loc[df_person['person_id'] == person_id, 'fumeur'] = True\n",
    "    else:\n",
    "        df_person.loc[df_person['person_id'] == person_id, 'fumeur'] = False\n",
    "\n",
    "print(f\"Total notes processed: {total}\")\n",
    "print(f\"Total smokers identified: {smokers}\")"
   ]
  },
  {
   "cell_type": "code",
   "execution_count": null,
   "id": "b19ecefd",
   "metadata": {},
   "outputs": [
    {
     "name": "stderr",
     "output_type": "stream",
     "text": [
      "\u001b[32m2025-06-04 15:09:27.345\u001b[0m | \u001b[33m\u001b[1mWARNING \u001b[0m | \u001b[36medsnlp.pipes.qualifiers.family.family\u001b[0m:\u001b[36m__init__\u001b[0m:\u001b[36m171\u001b[0m - \u001b[33m\u001b[1mYou have requested that the pipeline use annotations provided by the `section` pipeline, but it was not set. Skipping that step.\u001b[0m\n"
     ]
    },
    {
     "name": "stdout",
     "output_type": "stream",
     "text": [
      "Total notes processed: 958\n",
      "Total alcohol consumers identified: 0\n"
     ]
    }
   ],
   "source": [
    "nlp = edsnlp.blank(\"eds\")\n",
    "nlp.add_pipe(eds.sentences())\n",
    "nlp.add_pipe(eds.normalizer())\n",
    "nlp.add_pipe(eds.alcohol())\n",
    "nlp.add_pipe(eds.negation())\n",
    "nlp.add_pipe(eds.family())\n",
    "\n",
    "alcohol = 0\n",
    "total = 0\n",
    "for i in range(len(df_note)):\n",
    "    note = df_note.iloc[i]\n",
    "    text = note['note_text']\n",
    "    doc = nlp(text)\n",
    "\n",
    "    filtered_ents_for_display = [ent for ent in doc.ents if not ent._.family]\n",
    "    filtered_ents_for_display = [ent for ent in filtered_ents_for_display if not ent._.negation]\n",
    "\n",
    "    visit_id_from_sampled_note = note['visit_occurrence_id']\n",
    "    matching_visit_rows = df_visit[df_visit['visit_occurrence_id'] == visit_id_from_sampled_note]\n",
    "\n",
    "    current_note_id_scalar = note['note_id']\n",
    "    person_id = matching_visit_rows['person_id'].iloc[0]\n",
    "   \n",
    "    if matching_visit_rows.empty:\n",
    "        raise ValueError(f\"No matching visit found for visit_occurrence_id: {visit_id_from_sampled_note}\")\n",
    "    total += 1\n",
    "    if filtered_ents_for_display:\n",
    "        alcohol += 1\n",
    "        df_person.loc[df_person['person_id'] == person_id, 'alcool'] = True\n",
    "    else:\n",
    "        df_person.loc[df_person['person_id'] == person_id, 'alcool'] = False\n",
    "        \n",
    "print(f\"Total notes processed: {total}\")\n",
    "print(f\"Total alcohol consumers identified: {alcohol}\")"
   ]
  }
 ],
 "metadata": {
  "kernelspec": {
   "display_name": "3.11.11",
   "language": "python",
   "name": "python3"
  },
  "language_info": {
   "codemirror_mode": {
    "name": "ipython",
    "version": 3
   },
   "file_extension": ".py",
   "mimetype": "text/x-python",
   "name": "python",
   "nbconvert_exporter": "python",
   "pygments_lexer": "ipython3",
   "version": "3.11.11"
  }
 },
 "nbformat": 4,
 "nbformat_minor": 5
}
