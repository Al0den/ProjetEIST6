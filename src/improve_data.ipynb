{
 "cells": [
  {
   "cell_type": "code",
   "execution_count": null,
   "metadata": {},
   "outputs": [],
   "source": [
    "import pandas as pd\n",
    "import os\n",
    "\n",
    "import matplotlib.pyplot as plt\n",
    "import numpy as np\n",
    "from datetime import datetime\n",
    "\n",
    "from spacy import displacy\n",
    "import edsnlp, edsnlp.pipes as eds\n",
    "\n",
    "input_dir = \"../data_clean/\"\n",
    "visuals_dir = \"../visuals/\" "
   ]
  },
  {
   "cell_type": "code",
   "execution_count": 2,
   "id": "22f0b87b",
   "metadata": {},
   "outputs": [],
   "source": [
    "df_person = pd.read_pickle(os.path.join(input_dir, 'df_person.pkl'))\n",
    "df_bio = pd.read_pickle(os.path.join(input_dir, 'df_bio.pkl'))\n",
    "df_note = pd.read_pickle(os.path.join(input_dir, 'df_note.pkl'))\n",
    "df_visit = pd.read_pickle(os.path.join(input_dir, 'df_visit.pkl'))\n",
    "df_condition = pd.read_pickle(os.path.join(input_dir, 'df_condition.pkl'))"
   ]
  },
  {
   "cell_type": "code",
   "execution_count": 10,
   "id": "d60abfd3",
   "metadata": {},
   "outputs": [
    {
     "name": "stdout",
     "output_type": "stream",
     "text": [
      "Compte rendu de consultation\n",
      "\n",
      "Patient : [Nom du patient]\n",
      "Âge : [Âge du patient]\n",
      "Sexe : [Sexe du patient]\n",
      "Numéro de dossier : [Numéro de dossier du patient]\n",
      "\n",
      "Motif de la consultation:\n",
      "La patiente a été informée que son dépistage au cancer du sein était négatif, mettant ainsi en évidence l'absence de tumeur maligne ou de signes préoccupants dans ses résultats d'imagerie.\n",
      "\n",
      "Antecedents familiaux :\n",
      "Elle a été encouragée à soutenir les efforts visant à promouvoir des espaces sans fumée et à sensibiliser à l'importance de la santé pulmonaire.\n",
      "\n",
      "Examen du patient:\n",
      "Selon les témoignages de la famille et des proches de la patiente, il n'y a jamais eu d'observation de comportement de fumeur chez elle, ce qui indique qu'elle ne fume pas.\n",
      "\n",
      "Signature du médecin :\n",
      "[Nom du médecin]\n",
      "[Titre/Spécialité]\n",
      "[Hôpital/Service]\n"
     ]
    }
   ],
   "source": [
    "print(df_note.sample().note_text.values[0])"
   ]
  },
  {
   "cell_type": "code",
   "execution_count": null,
   "id": "d4d5b8c6",
   "metadata": {},
   "outputs": [],
   "source": [
    "terms = dict(\n",
    "    tabagisme=['fume', 'cigarette', 'tabac', 'fumeur', 'fumeuse', \n",
    "               'tabagisme', 'tabagique', 'tabagiques', 'tabacologue'],\n",
    "    alcool=['alcool', 'alcoolique', 'alcoolisme', 'alcooliques'],\n",
    "    pillule=['hormonale', 'contraceptif', 'contraceptifs', 'pilule', \n",
    "             'pilules', 'contraception', 'contraceptives', 'oestrogène'],\n",
    ")"
   ]
  },
  {
   "cell_type": "code",
   "execution_count": null,
   "id": "43f7652a",
   "metadata": {},
   "outputs": [],
   "source": [
    "\n",
    "nlp = edsnlp.blank(\"eds\")\n",
    "nlp.add_pipe(eds.sentences())\n",
    "nlp.add_pipe(eds.normalizer())\n",
    "nlp.add_pipe(eds.matcher(\n",
    "        terms=terms,\n",
    "        attr=\"NORM\",\n",
    "    ))\n",
    "nlp.add_pipe(eds.negation())"
   ]
  },
  {
   "cell_type": "code",
   "execution_count": null,
   "id": "8f158f35",
   "metadata": {},
   "outputs": [
    {
     "name": "stdout",
     "output_type": "stream",
     "text": [
      "Compte rendu de consultation\n",
      "\n",
      "Patient : [Nom du patient]\n",
      "Âge : [Âge du patient]\n",
      "Sexe : [Sexe du patient]\n",
      "Numéro de dossier : [Numéro de dossier du patient]\n",
      "\n",
      "Motif de la consultation:\n",
      "La patiente a été référée pour une évaluation spécialisée après la découverte d'une masse mammaire lors de l'auto-examen des seins. Cependant, une biopsie a confirmé que la masse était bénigne et non cancéreuse.\n",
      "\n",
      "Antecedents familiaux :\n",
      "Elle a été conseillée de prendre des mesures préventives supplémentaires, telles que des examens de dépistage réguliers et des auto-examens des seins.\n",
      "\n",
      "Examen du patient:\n",
      "La patiente a signalé être une fumeuse quotidienne depuis son adolescence, avec une consommation moyenne de 8 à 10 cigarettes par jour.\n",
      "\n",
      "Signature du médecin :\n",
      "[Nom du médecin]\n",
      "[Titre/Spécialité]\n",
      "[Hôpital/Service]\n"
     ]
    }
   ],
   "source": [
    "text = df_note.sample()['note_text'].squeeze()\n",
    "\n",
    "doc = nlp(text)\n",
    "\n",
    "colors = {\n",
    "    \"tabagisme\": \"orange\",\n",
    "    \"alcool\": \"steelblue\",\n",
    "    \"medicament\" : \"green\"\n",
    "}\n",
    "options = {\n",
    "    \"colors\": colors,\n",
    "}\n",
    "\n",
    "displacy.render(doc, style=\"ent\", options=options)\n"
   ]
  },
  {
   "cell_type": "code",
   "execution_count": null,
   "id": "b19ecefd",
   "metadata": {},
   "outputs": [],
   "source": []
  }
 ],
 "metadata": {
  "kernelspec": {
   "display_name": "3.11.11",
   "language": "python",
   "name": "python3"
  },
  "language_info": {
   "codemirror_mode": {
    "name": "ipython",
    "version": 3
   },
   "file_extension": ".py",
   "mimetype": "text/x-python",
   "name": "python",
   "nbconvert_exporter": "python",
   "pygments_lexer": "ipython3",
   "version": "3.11.11"
  }
 },
 "nbformat": 4,
 "nbformat_minor": 5
}
