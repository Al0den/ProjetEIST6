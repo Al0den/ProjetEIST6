{
 "cells": [
  {
   "cell_type": "code",
   "execution_count": 56,
   "metadata": {},
   "outputs": [],
   "source": [
    "import pandas as pd\n",
    "import os\n",
    "\n",
    "import matplotlib.pyplot as plt\n",
    "import numpy as np\n",
    "from datetime import datetime\n",
    "\n",
    "from spacy import displacy\n",
    "import edsnlp, edsnlp.pipes as eds\n",
    "\n",
    "input_dir = \"../data_clean/\"\n",
    "visuals_dir = \"../visuals/\" "
   ]
  },
  {
   "cell_type": "code",
   "execution_count": 57,
   "id": "22f0b87b",
   "metadata": {},
   "outputs": [],
   "source": [
    "df_person = pd.read_pickle(os.path.join(input_dir, 'df_person.pkl'))\n",
    "df_bio = pd.read_pickle(os.path.join(input_dir, 'df_bio.pkl'))\n",
    "df_note = pd.read_pickle(os.path.join(input_dir, 'df_note.pkl'))\n",
    "df_visit = pd.read_pickle(os.path.join(input_dir, 'df_visit.pkl'))\n",
    "df_condition = pd.read_pickle(os.path.join(input_dir, 'df_condition.pkl'))\n",
    "df_facteur_risque = pd.read_pickle(os.path.join(input_dir, 'df_facteur_risque.pkl'))"
   ]
  },
  {
   "cell_type": "code",
   "execution_count": 58,
   "id": "89f489e5",
   "metadata": {},
   "outputs": [
    {
     "name": "stderr",
     "output_type": "stream",
     "text": [
      "\u001b[32m2025-06-06 10:57:41.405\u001b[0m | \u001b[33m\u001b[1mWARNING \u001b[0m | \u001b[36medsnlp.pipes.qualifiers.family.family\u001b[0m:\u001b[36m__init__\u001b[0m:\u001b[36m171\u001b[0m - \u001b[33m\u001b[1mYou have requested that the pipeline use annotations provided by the `section` pipeline, but it was not set. Skipping that step.\u001b[0m\n",
      "\u001b[32m2025-06-06 10:57:41.497\u001b[0m | \u001b[33m\u001b[1mWARNING \u001b[0m | \u001b[36medsnlp.pipes.qualifiers.family.family\u001b[0m:\u001b[36m__init__\u001b[0m:\u001b[36m171\u001b[0m - \u001b[33m\u001b[1mYou have requested that the pipeline use annotations provided by the `section` pipeline, but it was not set. Skipping that step.\u001b[0m\n"
     ]
    },
    {
     "data": {
      "text/plain": [
       "<edsnlp.pipes.qualifiers.family.family.FamilyContextQualifier at 0x16ac6c550>"
      ]
     },
     "execution_count": 58,
     "metadata": {},
     "output_type": "execute_result"
    }
   ],
   "source": [
    "nlp_smoker = edsnlp.blank(\"eds\")\n",
    "nlp_smoker.add_pipe(eds.sentences())\n",
    "nlp_smoker.add_pipe(eds.normalizer())\n",
    "nlp_smoker.add_pipe(eds.tobacco())\n",
    "nlp_smoker.add_pipe(eds.negation())\n",
    "nlp_smoker.add_pipe(eds.family())\n",
    "\n",
    "nlp_alcool = edsnlp.blank(\"eds\")\n",
    "nlp_alcool.add_pipe(eds.sentences())\n",
    "nlp_alcool.add_pipe(eds.normalizer()) \n",
    "nlp_alcool.add_pipe(eds.alcohol())\n",
    "nlp_alcool.add_pipe(eds.negation())\n",
    "nlp_alcool.add_pipe(eds.family())"
   ]
  },
  {
   "cell_type": "code",
   "execution_count": null,
   "id": "43f7652a",
   "metadata": {},
   "outputs": [
    {
     "name": "stdout",
     "output_type": "stream",
     "text": [
      "Total notes processed: 996\n",
      "Total smokers identified: 90\n"
     ]
    }
   ],
   "source": [
    "df_facteur_risque['fumeur'] = False\n",
    "\n",
    "smokers, total = 0, 0\n",
    "for i in range(len(df_note)):\n",
    "    note = df_note.iloc[i]\n",
    "    text = note['note_text']\n",
    "    doc = nlp_smoker(text)\n",
    "\n",
    "    filtered_ents_for_display = [ent for ent in doc.ents if not ent._.family]\n",
    "    filtered_ents_for_display = [ent for ent in filtered_ents_for_display if not ent._.negation]\n",
    "\n",
    "    visit_id_from_sampled_note = note['visit_occurrence_id']\n",
    "    matching_visit_rows = df_visit[df_visit['visit_occurrence_id'] == visit_id_from_sampled_note]\n",
    "\n",
    "    current_note_id_scalar = note['note_id']\n",
    "    person_id = matching_visit_rows['person_id'].iloc[0]\n",
    "   \n",
    "    if matching_visit_rows.empty:\n",
    "        raise ValueError(f\"No matching visit found for visit_occurrence_id: {visit_id_from_sampled_note}\")\n",
    "    total += 1\n",
    "    if filtered_ents_for_display: \n",
    "        smokers += 1\n",
    "        df_facteur_risque.loc[df_facteur_risque['person_id'] == person_id, 'fumeur'] = True\n",
    "\n",
    "print(f\"Total notes processed: {total}\")\n",
    "print(f\"Total smokers identified: {smokers}\")"
   ]
  },
  {
   "cell_type": "code",
   "execution_count": null,
   "id": "8d7f72ce",
   "metadata": {},
   "outputs": [
    {
     "name": "stdout",
     "output_type": "stream",
     "text": [
      "Total notes processed: 996\n",
      "Total alcohol consumers identified: 22\n"
     ]
    }
   ],
   "source": [
    "df_facteur_risque['alcool'] = False\n",
    "\n",
    "alcohol, total = 0, 0\n",
    "\n",
    "for i in range(len(df_note)):\n",
    "    note = df_note.iloc[i]\n",
    "    text = note['note_text']\n",
    "    doc = nlp_alcool(text)\n",
    "\n",
    "    filtered_ents_for_display = [ent for ent in doc.ents if not ent._.family]\n",
    "    filtered_ents_for_display = [ent for ent in filtered_ents_for_display if not ent._.negation]\n",
    "\n",
    "    visit_id_from_sampled_note = note['visit_occurrence_id']\n",
    "    matching_visit_rows = df_visit[df_visit['visit_occurrence_id'] == visit_id_from_sampled_note]\n",
    "\n",
    "    current_note_id_scalar = note['note_id']\n",
    "    person_id = matching_visit_rows['person_id'].iloc[0]\n",
    "   \n",
    "    total += 1\n",
    "    if filtered_ents_for_display:\n",
    "        alcohol += 1\n",
    "        df_facteur_risque.loc[df_facteur_risque['person_id'] == person_id, 'alcool'] = True\n",
    "        \n",
    "print(f\"Total notes processed: {total}\")\n",
    "print(f\"Total alcohol consumers identified: {alcohol}\")\n",
    "\n",
    "pd.to_pickle(df_facteur_risque, os.path.join(input_dir, 'df_facteur_risque.pkl'))"
   ]
  }
 ],
 "metadata": {
  "kernelspec": {
   "display_name": "3.11.11",
   "language": "python",
   "name": "python3"
  },
  "language_info": {
   "codemirror_mode": {
    "name": "ipython",
    "version": 3
   },
   "file_extension": ".py",
   "mimetype": "text/x-python",
   "name": "python",
   "nbconvert_exporter": "python",
   "pygments_lexer": "ipython3",
   "version": "3.11.11"
  }
 },
 "nbformat": 4,
 "nbformat_minor": 5
}
